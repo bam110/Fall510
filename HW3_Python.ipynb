{
 "cells": [
  {
   "cell_type": "code",
   "execution_count": 1,
   "metadata": {
    "collapsed": false
   },
   "outputs": [
    {
     "name": "stdout",
     "output_type": "stream",
     "text": [
      "****\n",
      "*********\n",
      "*******\n"
     ]
    }
   ],
   "source": [
    "def generate_n_char(number, letter):\n",
    "    \"\"\"\n",
    "    This function takes an integer n and a character c and returns a string n characters long consisting of c's.\n",
    "    \n",
    "    Parameters:\n",
    "    number - the integer\n",
    "    letter - the character\n",
    "    \"\"\"\n",
    "    output=\"\"\n",
    "    for i in range(number):\n",
    "        output = output + letter\n",
    "    return output\n",
    "\n",
    "def histogram(list):\n",
    "    \"\"\"\n",
    "    This function takes a list of integers and prints a histogram.\n",
    "    \n",
    "    Parameters:\n",
    "    list - the list of integers\n",
    "    \"\"\"\n",
    "    for i in list:\n",
    "        print(generate_n_char(i, '*')) #uses the generate_n_char function with the * character\n",
    "\n",
    "histogram([4,9,7])"
   ]
  },
  {
   "cell_type": "code",
   "execution_count": 7,
   "metadata": {
    "collapsed": false
   },
   "outputs": [
    {
     "data": {
      "text/plain": [
       "4"
      ]
     },
     "execution_count": 7,
     "metadata": {},
     "output_type": "execute_result"
    }
   ],
   "source": [
    "def max_in_list(list):\n",
    "    \"\"\"\n",
    "    This function takes a list of numbers and returns the largest one.\n",
    "    \n",
    "    Parameters:\n",
    "    list - the list of numberrs\n",
    "    \"\"\"\n",
    "    max_num = list[0] #start with the first value in the list\n",
    "    if len(list) == 1: #if the list has only one number return that number\n",
    "        return max_num\n",
    "    else:\n",
    "        for i in list[1:len(list)]: \n",
    "            if i >= max_num: #if a number in the list is larger, that number becomes the maximum\n",
    "                max_num = i\n",
    "    return max_num\n",
    "\n",
    "max_in_list([1,4,2])"
   ]
  },
  {
   "cell_type": "code",
   "execution_count": 8,
   "metadata": {
    "collapsed": false
   },
   "outputs": [
    {
     "data": {
      "text/plain": [
       "[4, 3, 2]"
      ]
     },
     "execution_count": 8,
     "metadata": {},
     "output_type": "execute_result"
    }
   ],
   "source": [
    "def word_length_list(list):\n",
    "    \"\"\"\n",
    "    This function takes a list of words and returns a list of integers representing the lengths of the corresponding words.\n",
    "    \n",
    "    Parameters:\n",
    "    list - the list of words\n",
    "    \"\"\"\n",
    "    length_list = [] #this creates an empty list\n",
    "    for i in list:\n",
    "        length_list = length_list + [len(i)] #for each word, add that word's length to the list\n",
    "    return length_list\n",
    "\n",
    "word_length_list(['test', 'yes', 'no'])"
   ]
  },
  {
   "cell_type": "code",
   "execution_count": 9,
   "metadata": {
    "collapsed": false
   },
   "outputs": [
    {
     "data": {
      "text/plain": [
       "5"
      ]
     },
     "execution_count": 9,
     "metadata": {},
     "output_type": "execute_result"
    }
   ],
   "source": [
    "def find_longest_word(list):\n",
    "    \"\"\"\n",
    "    This function takes a list of words and returns the length of the longest word.\n",
    "    \n",
    "    Parameters:\n",
    "    list - the list of words\n",
    "    \"\"\"\n",
    "    maxlength = len(list[0]) #start with the length of the first word\n",
    "    for i in list:\n",
    "        if len(i) > maxlength: #if there is a word that is longer, that word's length becomes the max\n",
    "            maxlength = len(i)\n",
    "    return maxlength\n",
    "    \n",
    "\n",
    "find_longest_word(['maybe','no','yes'])"
   ]
  },
  {
   "cell_type": "code",
   "execution_count": 10,
   "metadata": {
    "collapsed": false
   },
   "outputs": [
    {
     "data": {
      "text/plain": [
       "['maybe', 'sometimes']"
      ]
     },
     "execution_count": 10,
     "metadata": {},
     "output_type": "execute_result"
    }
   ],
   "source": [
    "def filter_long_words(list, n):\n",
    "    \"\"\"\n",
    "    This function takes a list of words and an integer n and returns the list of words that are longer than n.\n",
    "    \n",
    "    Parameters:\n",
    "    list - the list of words\n",
    "    n - the integer\n",
    "    \"\"\"\n",
    "    list_of_words = [] #start with an empty list\n",
    "    for i in range(len(list)):\n",
    "        if len(list[i]) > n: #if a word is longer than n, add it to the list\n",
    "            list_of_words = list_of_words + [list[i]]\n",
    "    return list_of_words\n",
    "\n",
    "filter_long_words(['yes','no','maybe','sometimes'],4)"
   ]
  },
  {
   "cell_type": "code",
   "execution_count": 12,
   "metadata": {
    "collapsed": false
   },
   "outputs": [
    {
     "data": {
      "text/plain": [
       "True"
      ]
     },
     "execution_count": 12,
     "metadata": {},
     "output_type": "execute_result"
    }
   ],
   "source": [
    "def reverse(string):\n",
    "    \"\"\"\n",
    "    This function computes the reversal of a string.\n",
    "    \n",
    "    Parameters:\n",
    "    string - the string to reverse\n",
    "    \"\"\"\n",
    "    reversedstring=\"\" #start with an empty string\n",
    "    \n",
    "    for i in range(0,len(string)):\n",
    "        reversedstring = reversedstring + string[-i-1] #add the letters in reverse order\n",
    "    return reversedstring\n",
    "\n",
    "def removespecialcharacters(inputstring):\n",
    "    \"\"\"\n",
    "    This function takes a string and returns the string without special characters.\n",
    "    \n",
    "    Parameters:\n",
    "    inputstring - the string\n",
    "    \"\"\"\n",
    "    newstring = \"\"\n",
    "    stringlength = len(inputstring)\n",
    "    \n",
    "    for i in range(stringlength):\n",
    "        if (inputstring[i] == \" \" or\n",
    "           inputstring[i] == \"\\\"\\\"\" or\n",
    "           inputstring[i] == \"?\" or\n",
    "           inputstring[i] == \",\" or\n",
    "           inputstring[i] == \".\" or\n",
    "           inputstring[i] == \":\" or\n",
    "           inputstring[i] == \";\" or\n",
    "           inputstring[i] == \"'\" or\n",
    "           inputstring[i] == \"\\\"\" or\n",
    "           inputstring[i] == \"-\"):\n",
    "            newstring = newstring #if the character is a special character do not add it to the string\n",
    "        else:\n",
    "            newstring = newstring + inputstring[i] #if the character is not a special character add it to the new string\n",
    "    return newstring\n",
    "\n",
    "def phrase_is_palindrome(phrase):\n",
    "    \"\"\"\n",
    "    This function takes a word or a phrase and returns True if it is a palindrome and False if it is not.\n",
    "    \n",
    "    Parameters:\n",
    "    phrase - the word or phrase to test\n",
    "    \"\"\"\n",
    "    reversedphrase = reverse(phrase)\n",
    "    newphrase = removespecialcharacters(phrase) #remove special charaters from the original phrase\n",
    "    newreversedphrase = removespecialcharacters(reversedphrase) #remove special characters from the reversed phrase\n",
    "    \n",
    "    if str.lower(newphrase) == str.lower(newreversedphrase): #uses the str.lower function in case the user enters upper case\n",
    "        return True #if the phrase and the reversed phrase are equal, then the phrase is a palindrome\n",
    "    else:\n",
    "        return False\n",
    "\n",
    "phrase_is_palindrome(\"Was it a rat I saw?\")"
   ]
  },
  {
   "cell_type": "code",
   "execution_count": 14,
   "metadata": {
    "collapsed": false
   },
   "outputs": [
    {
     "data": {
      "text/plain": [
       "True"
      ]
     },
     "execution_count": 14,
     "metadata": {},
     "output_type": "execute_result"
    }
   ],
   "source": [
    "def is_pangram(sentence):\n",
    "    \"\"\"\n",
    "    This function takes a sentence and returns True if the sentence is a pangram and False if it is not.\n",
    "    \n",
    "    Parameters:\n",
    "    sentence - the sentence to check\n",
    "    \"\"\"\n",
    "    alphabet = 'abcdefghijklmnopqrstuvwxyz' #all letters of the alphabet\n",
    "    alphabetcount = 0\n",
    "    \n",
    "    if len(sentence) < 26:\n",
    "        return False #if the length of the sentence is less than 26 it cannot be a pangram\n",
    "    else:\n",
    "        sentence = str.lower(sentence) #set the sentence to be all lower case\n",
    "        \n",
    "        for i in range(len(alphabet)):\n",
    "            if alphabet[i] in sentence:\n",
    "                alphabetcount = alphabetcount + 1 #add one to the count for each letter\n",
    "                \n",
    "        if alphabetcount == 26: #if each letter in the alphabet is in the sentence return True\n",
    "            return True\n",
    "        else:\n",
    "            return False\n",
    "is_pangram(\"The quick brown fox jumps over the lazy dog.\")"
   ]
  },
  {
   "cell_type": "code",
   "execution_count": 29,
   "metadata": {
    "collapsed": false
   },
   "outputs": [
    {
     "name": "stdout",
     "output_type": "stream",
     "text": [
      "99 bottles of coke on the wall, 99 bottles of coke.\n",
      "Take one down, pass it around, 98 bottles of coke on the wall\n",
      " \n",
      "98 bottles of coke on the wall, 98 bottles of coke.\n",
      "Take one down, pass it around, 97 bottles of coke on the wall\n",
      " \n",
      "97 bottles of coke on the wall, 97 bottles of coke.\n",
      "Take one down, pass it around, 96 bottles of coke on the wall\n",
      " \n",
      "96 bottles of coke on the wall, 96 bottles of coke.\n",
      "Take one down, pass it around, 95 bottles of coke on the wall\n",
      " \n",
      "95 bottles of coke on the wall, 95 bottles of coke.\n",
      "Take one down, pass it around, 94 bottles of coke on the wall\n",
      " \n",
      "94 bottles of coke on the wall, 94 bottles of coke.\n",
      "Take one down, pass it around, 93 bottles of coke on the wall\n",
      " \n",
      "93 bottles of coke on the wall, 93 bottles of coke.\n",
      "Take one down, pass it around, 92 bottles of coke on the wall\n",
      " \n",
      "92 bottles of coke on the wall, 92 bottles of coke.\n",
      "Take one down, pass it around, 91 bottles of coke on the wall\n",
      " \n",
      "91 bottles of coke on the wall, 91 bottles of coke.\n",
      "Take one down, pass it around, 90 bottles of coke on the wall\n",
      " \n",
      "90 bottles of coke on the wall, 90 bottles of coke.\n",
      "Take one down, pass it around, 89 bottles of coke on the wall\n",
      " \n",
      "89 bottles of coke on the wall, 89 bottles of coke.\n",
      "Take one down, pass it around, 88 bottles of coke on the wall\n",
      " \n",
      "88 bottles of coke on the wall, 88 bottles of coke.\n",
      "Take one down, pass it around, 87 bottles of coke on the wall\n",
      " \n",
      "87 bottles of coke on the wall, 87 bottles of coke.\n",
      "Take one down, pass it around, 86 bottles of coke on the wall\n",
      " \n",
      "86 bottles of coke on the wall, 86 bottles of coke.\n",
      "Take one down, pass it around, 85 bottles of coke on the wall\n",
      " \n",
      "85 bottles of coke on the wall, 85 bottles of coke.\n",
      "Take one down, pass it around, 84 bottles of coke on the wall\n",
      " \n",
      "84 bottles of coke on the wall, 84 bottles of coke.\n",
      "Take one down, pass it around, 83 bottles of coke on the wall\n",
      " \n",
      "83 bottles of coke on the wall, 83 bottles of coke.\n",
      "Take one down, pass it around, 82 bottles of coke on the wall\n",
      " \n",
      "82 bottles of coke on the wall, 82 bottles of coke.\n",
      "Take one down, pass it around, 81 bottles of coke on the wall\n",
      " \n",
      "81 bottles of coke on the wall, 81 bottles of coke.\n",
      "Take one down, pass it around, 80 bottles of coke on the wall\n",
      " \n",
      "80 bottles of coke on the wall, 80 bottles of coke.\n",
      "Take one down, pass it around, 79 bottles of coke on the wall\n",
      " \n",
      "79 bottles of coke on the wall, 79 bottles of coke.\n",
      "Take one down, pass it around, 78 bottles of coke on the wall\n",
      " \n",
      "78 bottles of coke on the wall, 78 bottles of coke.\n",
      "Take one down, pass it around, 77 bottles of coke on the wall\n",
      " \n",
      "77 bottles of coke on the wall, 77 bottles of coke.\n",
      "Take one down, pass it around, 76 bottles of coke on the wall\n",
      " \n",
      "76 bottles of coke on the wall, 76 bottles of coke.\n",
      "Take one down, pass it around, 75 bottles of coke on the wall\n",
      " \n",
      "75 bottles of coke on the wall, 75 bottles of coke.\n",
      "Take one down, pass it around, 74 bottles of coke on the wall\n",
      " \n",
      "74 bottles of coke on the wall, 74 bottles of coke.\n",
      "Take one down, pass it around, 73 bottles of coke on the wall\n",
      " \n",
      "73 bottles of coke on the wall, 73 bottles of coke.\n",
      "Take one down, pass it around, 72 bottles of coke on the wall\n",
      " \n",
      "72 bottles of coke on the wall, 72 bottles of coke.\n",
      "Take one down, pass it around, 71 bottles of coke on the wall\n",
      " \n",
      "71 bottles of coke on the wall, 71 bottles of coke.\n",
      "Take one down, pass it around, 70 bottles of coke on the wall\n",
      " \n",
      "70 bottles of coke on the wall, 70 bottles of coke.\n",
      "Take one down, pass it around, 69 bottles of coke on the wall\n",
      " \n",
      "69 bottles of coke on the wall, 69 bottles of coke.\n",
      "Take one down, pass it around, 68 bottles of coke on the wall\n",
      " \n",
      "68 bottles of coke on the wall, 68 bottles of coke.\n",
      "Take one down, pass it around, 67 bottles of coke on the wall\n",
      " \n",
      "67 bottles of coke on the wall, 67 bottles of coke.\n",
      "Take one down, pass it around, 66 bottles of coke on the wall\n",
      " \n",
      "66 bottles of coke on the wall, 66 bottles of coke.\n",
      "Take one down, pass it around, 65 bottles of coke on the wall\n",
      " \n",
      "65 bottles of coke on the wall, 65 bottles of coke.\n",
      "Take one down, pass it around, 64 bottles of coke on the wall\n",
      " \n",
      "64 bottles of coke on the wall, 64 bottles of coke.\n",
      "Take one down, pass it around, 63 bottles of coke on the wall\n",
      " \n",
      "63 bottles of coke on the wall, 63 bottles of coke.\n",
      "Take one down, pass it around, 62 bottles of coke on the wall\n",
      " \n",
      "62 bottles of coke on the wall, 62 bottles of coke.\n",
      "Take one down, pass it around, 61 bottles of coke on the wall\n",
      " \n",
      "61 bottles of coke on the wall, 61 bottles of coke.\n",
      "Take one down, pass it around, 60 bottles of coke on the wall\n",
      " \n",
      "60 bottles of coke on the wall, 60 bottles of coke.\n",
      "Take one down, pass it around, 59 bottles of coke on the wall\n",
      " \n",
      "59 bottles of coke on the wall, 59 bottles of coke.\n",
      "Take one down, pass it around, 58 bottles of coke on the wall\n",
      " \n",
      "58 bottles of coke on the wall, 58 bottles of coke.\n",
      "Take one down, pass it around, 57 bottles of coke on the wall\n",
      " \n",
      "57 bottles of coke on the wall, 57 bottles of coke.\n",
      "Take one down, pass it around, 56 bottles of coke on the wall\n",
      " \n",
      "56 bottles of coke on the wall, 56 bottles of coke.\n",
      "Take one down, pass it around, 55 bottles of coke on the wall\n",
      " \n",
      "55 bottles of coke on the wall, 55 bottles of coke.\n",
      "Take one down, pass it around, 54 bottles of coke on the wall\n",
      " \n",
      "54 bottles of coke on the wall, 54 bottles of coke.\n",
      "Take one down, pass it around, 53 bottles of coke on the wall\n",
      " \n",
      "53 bottles of coke on the wall, 53 bottles of coke.\n",
      "Take one down, pass it around, 52 bottles of coke on the wall\n",
      " \n",
      "52 bottles of coke on the wall, 52 bottles of coke.\n",
      "Take one down, pass it around, 51 bottles of coke on the wall\n",
      " \n",
      "51 bottles of coke on the wall, 51 bottles of coke.\n",
      "Take one down, pass it around, 50 bottles of coke on the wall\n",
      " \n",
      "50 bottles of coke on the wall, 50 bottles of coke.\n",
      "Take one down, pass it around, 49 bottles of coke on the wall\n",
      " \n",
      "49 bottles of coke on the wall, 49 bottles of coke.\n",
      "Take one down, pass it around, 48 bottles of coke on the wall\n",
      " \n",
      "48 bottles of coke on the wall, 48 bottles of coke.\n",
      "Take one down, pass it around, 47 bottles of coke on the wall\n",
      " \n",
      "47 bottles of coke on the wall, 47 bottles of coke.\n",
      "Take one down, pass it around, 46 bottles of coke on the wall\n",
      " \n",
      "46 bottles of coke on the wall, 46 bottles of coke.\n",
      "Take one down, pass it around, 45 bottles of coke on the wall\n",
      " \n",
      "45 bottles of coke on the wall, 45 bottles of coke.\n",
      "Take one down, pass it around, 44 bottles of coke on the wall\n",
      " \n",
      "44 bottles of coke on the wall, 44 bottles of coke.\n",
      "Take one down, pass it around, 43 bottles of coke on the wall\n",
      " \n",
      "43 bottles of coke on the wall, 43 bottles of coke.\n",
      "Take one down, pass it around, 42 bottles of coke on the wall\n",
      " \n",
      "42 bottles of coke on the wall, 42 bottles of coke.\n",
      "Take one down, pass it around, 41 bottles of coke on the wall\n",
      " \n",
      "41 bottles of coke on the wall, 41 bottles of coke.\n",
      "Take one down, pass it around, 40 bottles of coke on the wall\n",
      " \n",
      "40 bottles of coke on the wall, 40 bottles of coke.\n",
      "Take one down, pass it around, 39 bottles of coke on the wall\n",
      " \n",
      "39 bottles of coke on the wall, 39 bottles of coke.\n",
      "Take one down, pass it around, 38 bottles of coke on the wall\n",
      " \n",
      "38 bottles of coke on the wall, 38 bottles of coke.\n",
      "Take one down, pass it around, 37 bottles of coke on the wall\n",
      " \n",
      "37 bottles of coke on the wall, 37 bottles of coke.\n",
      "Take one down, pass it around, 36 bottles of coke on the wall\n",
      " \n",
      "36 bottles of coke on the wall, 36 bottles of coke.\n",
      "Take one down, pass it around, 35 bottles of coke on the wall\n",
      " \n",
      "35 bottles of coke on the wall, 35 bottles of coke.\n",
      "Take one down, pass it around, 34 bottles of coke on the wall\n",
      " \n",
      "34 bottles of coke on the wall, 34 bottles of coke.\n",
      "Take one down, pass it around, 33 bottles of coke on the wall\n",
      " \n",
      "33 bottles of coke on the wall, 33 bottles of coke.\n",
      "Take one down, pass it around, 32 bottles of coke on the wall\n",
      " \n",
      "32 bottles of coke on the wall, 32 bottles of coke.\n",
      "Take one down, pass it around, 31 bottles of coke on the wall\n",
      " \n",
      "31 bottles of coke on the wall, 31 bottles of coke.\n",
      "Take one down, pass it around, 30 bottles of coke on the wall\n",
      " \n",
      "30 bottles of coke on the wall, 30 bottles of coke.\n",
      "Take one down, pass it around, 29 bottles of coke on the wall\n",
      " \n",
      "29 bottles of coke on the wall, 29 bottles of coke.\n",
      "Take one down, pass it around, 28 bottles of coke on the wall\n",
      " \n",
      "28 bottles of coke on the wall, 28 bottles of coke.\n",
      "Take one down, pass it around, 27 bottles of coke on the wall\n",
      " \n",
      "27 bottles of coke on the wall, 27 bottles of coke.\n",
      "Take one down, pass it around, 26 bottles of coke on the wall\n",
      " \n",
      "26 bottles of coke on the wall, 26 bottles of coke.\n",
      "Take one down, pass it around, 25 bottles of coke on the wall\n",
      " \n",
      "25 bottles of coke on the wall, 25 bottles of coke.\n",
      "Take one down, pass it around, 24 bottles of coke on the wall\n",
      " \n",
      "24 bottles of coke on the wall, 24 bottles of coke.\n",
      "Take one down, pass it around, 23 bottles of coke on the wall\n",
      " \n",
      "23 bottles of coke on the wall, 23 bottles of coke.\n",
      "Take one down, pass it around, 22 bottles of coke on the wall\n",
      " \n",
      "22 bottles of coke on the wall, 22 bottles of coke.\n",
      "Take one down, pass it around, 21 bottles of coke on the wall\n",
      " \n",
      "21 bottles of coke on the wall, 21 bottles of coke.\n",
      "Take one down, pass it around, 20 bottles of coke on the wall\n",
      " \n",
      "20 bottles of coke on the wall, 20 bottles of coke.\n",
      "Take one down, pass it around, 19 bottles of coke on the wall\n",
      " \n",
      "19 bottles of coke on the wall, 19 bottles of coke.\n",
      "Take one down, pass it around, 18 bottles of coke on the wall\n",
      " \n",
      "18 bottles of coke on the wall, 18 bottles of coke.\n",
      "Take one down, pass it around, 17 bottles of coke on the wall\n",
      " \n",
      "17 bottles of coke on the wall, 17 bottles of coke.\n",
      "Take one down, pass it around, 16 bottles of coke on the wall\n",
      " \n",
      "16 bottles of coke on the wall, 16 bottles of coke.\n",
      "Take one down, pass it around, 15 bottles of coke on the wall\n",
      " \n",
      "15 bottles of coke on the wall, 15 bottles of coke.\n",
      "Take one down, pass it around, 14 bottles of coke on the wall\n",
      " \n",
      "14 bottles of coke on the wall, 14 bottles of coke.\n",
      "Take one down, pass it around, 13 bottles of coke on the wall\n",
      " \n",
      "13 bottles of coke on the wall, 13 bottles of coke.\n",
      "Take one down, pass it around, 12 bottles of coke on the wall\n",
      " \n",
      "12 bottles of coke on the wall, 12 bottles of coke.\n",
      "Take one down, pass it around, 11 bottles of coke on the wall\n",
      " \n",
      "11 bottles of coke on the wall, 11 bottles of coke.\n",
      "Take one down, pass it around, 10 bottles of coke on the wall\n",
      " \n",
      "10 bottles of coke on the wall, 10 bottles of coke.\n",
      "Take one down, pass it around, 9 bottles of coke on the wall\n",
      " \n",
      "9 bottles of coke on the wall, 9 bottles of coke.\n",
      "Take one down, pass it around, 8 bottles of coke on the wall\n",
      " \n",
      "8 bottles of coke on the wall, 8 bottles of coke.\n",
      "Take one down, pass it around, 7 bottles of coke on the wall\n",
      " \n",
      "7 bottles of coke on the wall, 7 bottles of coke.\n",
      "Take one down, pass it around, 6 bottles of coke on the wall\n",
      " \n",
      "6 bottles of coke on the wall, 6 bottles of coke.\n",
      "Take one down, pass it around, 5 bottles of coke on the wall\n",
      " \n",
      "5 bottles of coke on the wall, 5 bottles of coke.\n",
      "Take one down, pass it around, 4 bottles of coke on the wall\n",
      " \n",
      "4 bottles of coke on the wall, 4 bottles of coke.\n",
      "Take one down, pass it around, 3 bottles of coke on the wall\n",
      " \n",
      "3 bottles of coke on the wall, 3 bottles of coke.\n",
      "Take one down, pass it around, 2 bottles of coke on the wall\n",
      " \n",
      "2 bottles of coke on the wall, 2 bottles of coke.\n",
      "Take one down, pass it around, 1 bottles of coke on the wall\n",
      " \n",
      "1 bottles of coke on the wall, 1 bottles of coke.\n",
      "Take one down, pass it around, 0 bottles of coke on the wall\n",
      " \n"
     ]
    }
   ],
   "source": [
    "def singbottlesofbeer():\n",
    "    \"\"\"\n",
    "    This function generates the verses of the \"99 Bottles of Coke\" song.\n",
    "    \"\"\"\n",
    "    count = 99\n",
    "    while count > 0:\n",
    "        print(str(count) + \" bottles of coke on the wall, \" + str(count) + \" bottles of coke.\")\n",
    "        print(\"Take one down, pass it around, \" + str(count-1) + \" bottles of coke on the wall\")\n",
    "        print(\" \") #prints a space in between each verse\n",
    "        count = count - 1\n",
    "\n",
    "singbottlesofbeer()"
   ]
  },
  {
   "cell_type": "code",
   "execution_count": 32,
   "metadata": {
    "collapsed": false
   },
   "outputs": [
    {
     "data": {
      "text/plain": [
       "['god', 'jul', 'och', 'gott', 'nytt', 'år']"
      ]
     },
     "execution_count": 32,
     "metadata": {},
     "output_type": "execute_result"
    }
   ],
   "source": [
    "def translate(list):\n",
    "    \"\"\"\n",
    "    This function takes a list of English words and returns a list of the words translated to Swedish.\n",
    "    \n",
    "    Parameters:\n",
    "    list - the list of English words to translate\n",
    "    \"\"\"\n",
    "    dictionary = {\"merry\":\"god\",\n",
    "                 \"christmas\":\"jul\",\n",
    "                 \"and\":\"och\",\n",
    "                 \"happy\":\"gott\",\n",
    "                 \"new\":\"nytt\",\n",
    "                 \"year\":\"år\"} #uses a dictionary of English and Swedish words\n",
    "    translatedlist = [] #creates an empty list\n",
    "    for i in list:\n",
    "        if i in dictionary:\n",
    "            translatedlist = translatedlist + [dictionary[i]] #if an English word is in the dictionary, add the translated Swedish word to the list \n",
    "    return translatedlist\n",
    "    \n",
    "translate([\"merry\", \"christmas\", \"and\", \"happy\", \"new\", \"year\"])"
   ]
  },
  {
   "cell_type": "code",
   "execution_count": 37,
   "metadata": {
    "collapsed": false
   },
   "outputs": [
    {
     "data": {
      "text/plain": [
       "{'a': 7, 'b': 14, 'c': 3, 'd': 3}"
      ]
     },
     "execution_count": 37,
     "metadata": {},
     "output_type": "execute_result"
    }
   ],
   "source": [
    "def char_freq(string):\n",
    "    \"\"\"\n",
    "    This function takes a string and returns a frequency listing of the characters contained in the string.\n",
    "    The output is a Python dictionary.\n",
    "    \n",
    "    Parameters:\n",
    "    string - the input string\n",
    "    \"\"\"\n",
    "    dictionary = {} #creates an empty dictionary\n",
    "    for i in range(len(string)):\n",
    "        if string[i] in dictionary:\n",
    "            dictionary[string[i]] = dictionary[string[i]] + 1 #adds one to the frequency of the character if it is already in the dictionary \n",
    "        else:\n",
    "            dictionary[string[i]] = 1 #adds the character to the dictionary \n",
    "    return dictionary\n",
    "\n",
    "char_freq(\"abbabcbdbabdbdbabababcbcbab\")"
   ]
  },
  {
   "cell_type": "code",
   "execution_count": 38,
   "metadata": {
    "collapsed": false
   },
   "outputs": [
    {
     "data": {
      "text/plain": [
       "'Caesar cipher? I much prefer Caesar salad!'"
      ]
     },
     "execution_count": 38,
     "metadata": {},
     "output_type": "execute_result"
    }
   ],
   "source": [
    "def decoder_encoder(string):\n",
    "    \"\"\"\n",
    "    This function takes a string and decodes it using ROT-13.\n",
    "    This function is an encoder/decoder of ROT-13.\n",
    "    \n",
    "    Parameters:\n",
    "    string - the string to encode/decode\n",
    "    \"\"\"\n",
    "    newstring = \"\" #start with an empty string\n",
    "    key = {'a':'n', 'b':'o', 'c':'p', 'd':'q', 'e':'r', 'f':'s', 'g':'t', 'h':'u', \n",
    "           'i':'v', 'j':'w', 'k':'x', 'l':'y', 'm':'z', 'n':'a', 'o':'b', 'p':'c', \n",
    "           'q':'d', 'r':'e', 's':'f', 't':'g', 'u':'h', 'v':'i', 'w':'j', 'x':'k',\n",
    "           'y':'l', 'z':'m', 'A':'N', 'B':'O', 'C':'P', 'D':'Q', 'E':'R', 'F':'S', \n",
    "           'G':'T', 'H':'U', 'I':'V', 'J':'W', 'K':'X', 'L':'Y', 'M':'Z', 'N':'A', \n",
    "           'O':'B', 'P':'C', 'Q':'D', 'R':'E', 'S':'F', 'T':'G', 'U':'H', 'V':'I', \n",
    "           'W':'J', 'X':'K', 'Y':'L', 'Z':'M'} #this is a dictionary which is the key for ROT-13\n",
    "    for i in string:\n",
    "        if i in key:\n",
    "            newstring = newstring + key[i] #adds the corresponding character from the key to the string\n",
    "        else:\n",
    "            newstring = newstring + i #if the character is a special character or a space, it adds the character to the string\n",
    "    return newstring\n",
    "\n",
    "decoder_encoder(\"Pnrfne pvcure? V zhpu cersre Pnrfne fnynq!\")"
   ]
  },
  {
   "cell_type": "code",
   "execution_count": 15,
   "metadata": {
    "collapsed": false
   },
   "outputs": [
    {
     "data": {
      "text/plain": [
       "'This is very funny and cool. Indeed!'"
      ]
     },
     "execution_count": 15,
     "metadata": {},
     "output_type": "execute_result"
    }
   ],
   "source": [
    "def correct(string):\n",
    "    \"\"\"\n",
    "    This function takes a string and returns the string with two or more occurences of the space character compressed into one \n",
    "    and with an extra space after the period if the period is followed by a letter.\n",
    "    \n",
    "    Parameters:\n",
    "    string - the string to correct\n",
    "    \"\"\"\n",
    "    import re #imports the re module\n",
    "    correctedstring = re.sub('\\ +',' ',string) #removes the extra spaces\n",
    "    correctedstring = re.sub('\\.', '. ',correctedstring) #puts an extra space after the period\n",
    "    return correctedstring\n",
    "\n",
    "correct(\"This        is   very  funny  and  cool.Indeed!\")"
   ]
  },
  {
   "cell_type": "code",
   "execution_count": 51,
   "metadata": {
    "collapsed": false
   },
   "outputs": [
    {
     "name": "stdout",
     "output_type": "stream",
     "text": [
      "tries\n",
      "brushes\n",
      "runs\n",
      "fixes\n"
     ]
    }
   ],
   "source": [
    "def make_3sg_form(verb):\n",
    "    \"\"\"\n",
    "    This function takes a verb in infinitive form and returns the verb in third person singular form.\n",
    "    \n",
    "    Parameters:\n",
    "    verb - the verb in infinitive form\n",
    "    \"\"\"\n",
    "    if verb.endswith('y'):\n",
    "        return verb[:-1]+'ies' #if the verb ends with y, remove the y and add ies to the end\n",
    "    elif verb.endswith(('o','ch','s','sh','x','z')):\n",
    "        return verb + 'es' #if the verb ends with o, ch, s, sh, x, or z, add an es to the end\n",
    "    else:\n",
    "        return verb + 's' #by default add an s to the end\n",
    "    \n",
    "print(make_3sg_form('try'))\n",
    "print(make_3sg_form('brush'))\n",
    "print(make_3sg_form('run'))\n",
    "print(make_3sg_form('fix'))"
   ]
  },
  {
   "cell_type": "code",
   "execution_count": 17,
   "metadata": {
    "collapsed": false
   },
   "outputs": [
    {
     "name": "stdout",
     "output_type": "stream",
     "text": [
      "lying\n",
      "seeing\n",
      "moving\n",
      "hugging\n"
     ]
    }
   ],
   "source": [
    "def is_vowel(letter):\n",
    "    \"\"\"\n",
    "    This function takes a character and returns True if it is a vowel and False otherwise.\n",
    "    \n",
    "    Parameters:\n",
    "    letter - the character to test\n",
    "    \"\"\"\n",
    "    if letter in ('a', 'A', 'e', 'E', 'i', 'I', 'o', 'O', 'u', 'U'):\n",
    "        return True\n",
    "    else:\n",
    "        return False\n",
    "\n",
    "def make_ing_form(verb):\n",
    "    \"\"\"\n",
    "    This function takes a verb in infinitive form and returns the verb in present participle form.\n",
    "    \n",
    "    Parameters:\n",
    "    verb - the verb in infinitive form\n",
    "    \"\"\"\n",
    "    if verb.endswith('ie'):\n",
    "        return verb[:-2] + 'ying' #if the verb ends with ie, remove the ie and add ying\n",
    "    elif verb.endswith('ee'):\n",
    "        return verb + 'ing' #if the verb ends with ee, add ing\n",
    "    elif verb.endswith('e') and not (len(verb) == 2):\n",
    "        return verb[:-1] + 'ing' #if the verb ends with e and is longer than 2 characters, remove the e and add ing\n",
    "    elif len(verb) == 3 and (is_vowel(verb[1])) and not ((is_vowel(verb[0])) and (is_vowel(verb[2]))):\n",
    "        return verb + verb[2] + 'ing' #if the verb is consonant-vowel-consonant, add the second consonant and ing\n",
    "    else:\n",
    "        return verb + 'ing' #by default add ing\n",
    "    \n",
    "print(make_ing_form('lie'))\n",
    "print(make_ing_form('see'))\n",
    "print(make_ing_form('move'))\n",
    "print(make_ing_form('hug'))"
   ]
  },
  {
   "cell_type": "code",
   "execution_count": null,
   "metadata": {
    "collapsed": true
   },
   "outputs": [],
   "source": []
  }
 ],
 "metadata": {
  "kernelspec": {
   "display_name": "Python 3",
   "language": "python",
   "name": "python3"
  },
  "language_info": {
   "codemirror_mode": {
    "name": "ipython",
    "version": 3
   },
   "file_extension": ".py",
   "mimetype": "text/x-python",
   "name": "python",
   "nbconvert_exporter": "python",
   "pygments_lexer": "ipython3",
   "version": "3.3.5"
  }
 },
 "nbformat": 4,
 "nbformat_minor": 0
}
