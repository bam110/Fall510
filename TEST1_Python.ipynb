{
 "cells": [
  {
   "cell_type": "code",
   "execution_count": 2,
   "metadata": {
    "collapsed": false
   },
   "outputs": [
    {
     "data": {
      "text/plain": [
       "4.0"
      ]
     },
     "execution_count": 2,
     "metadata": {},
     "output_type": "execute_result"
    }
   ],
   "source": [
    "def polygarea(coords):\n",
    "    \"\"\"\n",
    "    The polygarea function takes a vector of ordered pairs that describe the vertices of a polygon and outputs the area of the polygon.\n",
    "    \n",
    "    Parameters:\n",
    "    coords - a vector of ordered pairs that describe the vertices of a polygon given in order\n",
    "    \"\"\"\n",
    "    n=len(coords) #n is the number of vertices in the coords vector\n",
    "    area=0 #the area starts at 0\n",
    "    for i in range(n): #performs the sum for the number of vertices in the coords vector\n",
    "        j=(i+1)%n #this modular arithmetic allows for n+1=1\n",
    "        area=area+coords[i][0]*coords[j][1] #this line adds the first term of Green's theorem x_i*y_(i+1)\n",
    "        area=area-coords[j][0]*coords[i][1] #this line subtracts the second term of Green's theorem x_(i+1)*y_i\n",
    "    area=abs(area)/2 #this line calculates the absolute value of the area and divides it by 2 as in Green's theorem\n",
    "    return area #returns the area as calculated using Green's theorem\n",
    "\n",
    "\n",
    "corners = [(0, 0), (2, 0), (2, 2), (0,2)]\n",
    "\n",
    "polygarea(corners)"
   ]
  },
  {
   "cell_type": "code",
   "execution_count": 4,
   "metadata": {
    "collapsed": false
   },
   "outputs": [
    {
     "data": {
      "text/plain": [
       "8.0"
      ]
     },
     "execution_count": 4,
     "metadata": {},
     "output_type": "execute_result"
    }
   ],
   "source": [
    "import math #imports the math module so the math.sqrt() function can be used\n",
    "def polygperim(coords):\n",
    "    \"\"\"\n",
    "    The function polygperim takes a vector of ordered pairs that describe the vertices of a polygon and outputs the perimeter of the polygon.\n",
    "    \n",
    "    Parameters:\n",
    "    coords - a vector of ordered pairs that describe the vertices of a polygon given in order\n",
    "    \"\"\"\n",
    "    n=len(coords) #n is the number of vertices in the coords vector\n",
    "    perimeter=0 #the perimeter starts at 0\n",
    "    for i in range(n):\n",
    "        j=(i+1)%n #this modular arithmetic allows for n+1=1\n",
    "        perimeter = perimeter + math.sqrt(pow(coords[j][0]-coords[i][0],2) + pow(coords[j][1]-coords[i][1],2)) #uses the distance formula to find the distance between each pair of adjacent points and adds it to the perimeter\n",
    "    return perimeter #returns the total perimeter\n",
    "\n",
    "corners = [(0, 0), (2,0), (2,2), (0,2)]\n",
    "\n",
    "polygperim(corners)"
   ]
  },
  {
   "cell_type": "code",
   "execution_count": null,
   "metadata": {
    "collapsed": true
   },
   "outputs": [],
   "source": []
  }
 ],
 "metadata": {
  "kernelspec": {
   "display_name": "Python 3",
   "language": "python",
   "name": "python3"
  },
  "language_info": {
   "codemirror_mode": {
    "name": "ipython",
    "version": 3
   },
   "file_extension": ".py",
   "mimetype": "text/x-python",
   "name": "python",
   "nbconvert_exporter": "python",
   "pygments_lexer": "ipython3",
   "version": "3.3.5"
  }
 },
 "nbformat": 4,
 "nbformat_minor": 0
}
