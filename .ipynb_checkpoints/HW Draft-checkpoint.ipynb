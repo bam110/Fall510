{
 "cells": [
  {
   "cell_type": "code",
   "execution_count": 3,
   "metadata": {
    "collapsed": false
   },
   "outputs": [
    {
     "data": {
      "text/plain": [
       "100"
      ]
     },
     "execution_count": 3,
     "metadata": {},
     "output_type": "execute_result"
    }
   ],
   "source": [
    "def mymax(first, second):\n",
    "    \"\"\"\n",
    "    This function takes two numbers as arguments and returns the largest of them.\n",
    "    \n",
    "    Parameters:\n",
    "    first - the first number\n",
    "    second - the second number\n",
    "    \"\"\"\n",
    "    if first >= second:\n",
    "        return first\n",
    "    else:\n",
    "        return second\n",
    "    \n",
    "mymax(100, 78)"
   ]
  },
  {
   "cell_type": "code",
   "execution_count": 4,
   "metadata": {
    "collapsed": false
   },
   "outputs": [
    {
     "data": {
      "text/plain": [
       "20"
      ]
     },
     "execution_count": 4,
     "metadata": {},
     "output_type": "execute_result"
    }
   ],
   "source": [
    "def max_of_three(first, second, third):\n",
    "    \"\"\"\n",
    "    This function takes three numbers as arguments and returns the largest of them.\n",
    "    \n",
    "    Parameters:\n",
    "    first - the first number\n",
    "    second - the second number\n",
    "    third - the third number\n",
    "    \"\"\"\n",
    "    if (first >= second) and (first >= third):\n",
    "        return first\n",
    "    elif (second >= first) and (second >= third):\n",
    "        return second\n",
    "    else:\n",
    "        return third\n",
    "    \n",
    "max_of_three(6,20,1)"
   ]
  },
  {
   "cell_type": "code",
   "execution_count": 36,
   "metadata": {
    "collapsed": false
   },
   "outputs": [
    {
     "name": "stdout",
     "output_type": "stream",
     "text": [
      "0\n",
      "1\n",
      "1\n",
      "2\n",
      "3\n",
      "5\n",
      "8\n",
      "13\n",
      "21\n",
      "34\n",
      "55\n",
      "89\n"
     ]
    }
   ],
   "source": [
    "def fib(n):\n",
    "    \"\"\"\n",
    "    This function takes a number n and prints all the Fibonacci numbers less than n.\n",
    "    \n",
    "    Parameters:\n",
    "    n - the number which is the upper limit of the Fibonacci numbers\n",
    "    \"\"\"\n",
    "    a = 0\n",
    "    b = 1 #a and b are the inital values for the Fibonacci numbers\n",
    "    while a < n:\n",
    "        print(a)\n",
    "        a, b = b, a+b\n",
    "               \n",
    "fib(100)"
   ]
  },
  {
   "cell_type": "code",
   "execution_count": 2,
   "metadata": {
    "collapsed": false
   },
   "outputs": [
    {
     "name": "stdout",
     "output_type": "stream",
     "text": [
      "0\n",
      "1\n",
      "1\n",
      "2\n",
      "3\n",
      "5\n",
      "8\n",
      "13\n"
     ]
    }
   ],
   "source": [
    "def fib(n):\n",
    "    \"\"\"\n",
    "    This function takes a number n and prints all the Fibonacci numbers less than n.\n",
    "    \n",
    "    Parameters:\n",
    "    n - the number which is the upper limit of the Fibonacci numbers\n",
    "    \"\"\"\n",
    "    a = 0\n",
    "    b = 1\n",
    "    while a < n:\n",
    "        print(a)\n",
    "        c = a\n",
    "        a = b\n",
    "        b = c+b\n",
    "               \n",
    "fib(14)"
   ]
  },
  {
   "cell_type": "code",
   "execution_count": 25,
   "metadata": {
    "collapsed": false
   },
   "outputs": [
    {
     "data": {
      "text/plain": [
       "True"
      ]
     },
     "execution_count": 25,
     "metadata": {},
     "output_type": "execute_result"
    }
   ],
   "source": [
    "def is_vowel(letter):\n",
    "    \"\"\"\n",
    "    This function takes a character and returns True if it is a vowel and False otherwise.\n",
    "    \n",
    "    Parameters:\n",
    "    letter - the character to test\n",
    "    \"\"\"\n",
    "    if letter in ('a', 'A', 'e', 'E', 'i', 'I', 'o', 'O', 'u', 'U'):\n",
    "        return True\n",
    "    else:\n",
    "        return False\n",
    "\n",
    "is_vowel('E')"
   ]
  },
  {
   "cell_type": "code",
   "execution_count": 23,
   "metadata": {
    "collapsed": false
   },
   "outputs": [
    {
     "data": {
      "text/plain": [
       "'xxxxxxxxxxxxxxxxxxxxxxxxxxxxxxxx'"
      ]
     },
     "execution_count": 23,
     "metadata": {},
     "output_type": "execute_result"
    }
   ],
   "source": [
    "def generate_n_char(number, letter):\n",
    "    \"\"\"\n",
    "    This function takes an integer n and a character c and returns a string n characters long consisting of c's\n",
    "    \n",
    "    Parameters:\n",
    "    number - the integer\n",
    "    letter - the character\n",
    "    \"\"\"\n",
    "    output=\"\"\n",
    "    for i in range(number):\n",
    "        output = output + letter\n",
    "    return output\n",
    "\n",
    "generate_n_char(32, 'x')"
   ]
  },
  {
   "cell_type": "code",
   "execution_count": 8,
   "metadata": {
    "collapsed": false
   },
   "outputs": [
    {
     "data": {
      "text/plain": [
       "14"
      ]
     },
     "execution_count": 8,
     "metadata": {},
     "output_type": "execute_result"
    }
   ],
   "source": [
    "def mylen(string):\n",
    "    \"\"\"\n",
    "    This function computes the length of a given list or string.\n",
    "    \n",
    "    Parameters:\n",
    "    string - the list or string to compute the length of\n",
    "    \"\"\"\n",
    "    count=0\n",
    "    for i in string:\n",
    "        count=count+1 #adds one for each member of the list or character in the string\n",
    "    return count\n",
    "\n",
    "mylen('nsdjkfjdsfnssj')"
   ]
  },
  {
   "cell_type": "code",
   "execution_count": 37,
   "metadata": {
    "collapsed": false
   },
   "outputs": [
    {
     "data": {
      "text/plain": [
       "'tothohisos isos fofunon'"
      ]
     },
     "execution_count": 37,
     "metadata": {},
     "output_type": "execute_result"
    }
   ],
   "source": [
    "def is_vowel(letter):\n",
    "    \"\"\"\n",
    "    This function takes a character and returns True if it is a vowel and False otherwise.\n",
    "    \n",
    "    Parameters:\n",
    "    letter - the character to test\n",
    "    \"\"\"\n",
    "    if letter in ('a', 'A', 'e', 'E', 'i', 'I', 'o', 'O', 'u', 'U'):\n",
    "        return True\n",
    "    else:\n",
    "        return False\n",
    "\n",
    "def translate(string):\n",
    "    \"\"\"\n",
    "    This function translates a string into \"rövarspråket\". It doubles every consonant and places an \"o\" in between.\n",
    "    \n",
    "    Parameters:\n",
    "    string - the string to translate\n",
    "    \"\"\"\n",
    "    translatedstring = \"\"\n",
    "    for i in range(len(string)):\n",
    "        if (is_vowel(string[i]) or string[i] == \" \"):\n",
    "            translatedstring = translatedstring + str(string[i])\n",
    "        else:\n",
    "            translatedstring = translatedstring + str(string[i]) + \"o\" + str(string[i])\n",
    "    return translatedstring\n",
    "            \n",
    "translate(\"this is fun\")"
   ]
  },
  {
   "cell_type": "code",
   "execution_count": 32,
   "metadata": {
    "collapsed": false
   },
   "outputs": [
    {
     "name": "stdout",
     "output_type": "stream",
     "text": [
      "0\n"
     ]
    }
   ],
   "source": [
    "def is_vowel(letter):\n",
    "    if letter in ('a', 'A', 'e', 'E', 'i', 'I', 'o', 'O', 'u', 'U'):\n",
    "        x = 1\n",
    "    else:\n",
    "        x = 0\n",
    "    return x\n",
    "\n",
    "string = \"this is fun\"\n",
    "\n",
    "m = is_vowel(string[3])\n",
    "print(m)"
   ]
  },
  {
   "cell_type": "code",
   "execution_count": 10,
   "metadata": {
    "collapsed": false
   },
   "outputs": [
    {
     "data": {
      "text/plain": [
       "56"
      ]
     },
     "execution_count": 10,
     "metadata": {},
     "output_type": "execute_result"
    }
   ],
   "source": [
    "def sum(list):\n",
    "    \"\"\"\n",
    "    This function returns the sum of a list of numbers.\n",
    "    \n",
    "    Parameters:\n",
    "    list - the list of numbers to sum\n",
    "    \"\"\"\n",
    "    total=0\n",
    "    for i in range(len(list)):\n",
    "        total=total+list[i]\n",
    "    return total\n",
    "\n",
    "sum([51, 2, 3])"
   ]
  },
  {
   "cell_type": "code",
   "execution_count": 13,
   "metadata": {
    "collapsed": false
   },
   "outputs": [
    {
     "data": {
      "text/plain": [
       "180"
      ]
     },
     "execution_count": 13,
     "metadata": {},
     "output_type": "execute_result"
    }
   ],
   "source": [
    "def multiply(list):\n",
    "    \"\"\"\n",
    "    This function returns the product of a list of numbers.\n",
    "    \n",
    "    Parameters:\n",
    "    list - the list of numbers to multiply\n",
    "    \"\"\"\n",
    "    product=1\n",
    "    for i in range(len(list)):\n",
    "        product=product*list[i]\n",
    "    return product\n",
    "\n",
    "multiply([2, 90])"
   ]
  },
  {
   "cell_type": "code",
   "execution_count": 16,
   "metadata": {
    "collapsed": false
   },
   "outputs": [
    {
     "data": {
      "text/plain": [
       "'gnitset ma I'"
      ]
     },
     "execution_count": 16,
     "metadata": {},
     "output_type": "execute_result"
    }
   ],
   "source": [
    "def reverse(string):\n",
    "    \"\"\"\n",
    "    This function computes the reversal of a string.\n",
    "    \n",
    "    Parameters:\n",
    "    string - the string to reverse\n",
    "    \"\"\"\n",
    "    reversedstring=\"\"\n",
    "    for i in range(0,len(string)):\n",
    "        reversedstring = reversedstring + string[-i-1]\n",
    "    return reversedstring\n",
    "    \n",
    "reverse(\"I am testing\")"
   ]
  },
  {
   "cell_type": "code",
   "execution_count": 17,
   "metadata": {
    "collapsed": false
   },
   "outputs": [
    {
     "data": {
      "text/plain": [
       "True"
      ]
     },
     "execution_count": 17,
     "metadata": {},
     "output_type": "execute_result"
    }
   ],
   "source": [
    "def reverse(string):\n",
    "    \"\"\"\n",
    "    This function computes the reversal of a string.\n",
    "    \n",
    "    Parameters:\n",
    "    string - the string to reverse\n",
    "    \"\"\"\n",
    "    reversedstring=\"\"\n",
    "    \n",
    "    for i in range(0,len(string)):\n",
    "        reversedstring = reversedstring + string[-i-1]\n",
    "    return reversedstring\n",
    "\n",
    "def is_palindrome(inputstring):\n",
    "    \"\"\"\n",
    "    This function takes a string as an argument and retuns True if it is a palindrome and False if it is not a palindrome\n",
    "    \n",
    "    Parameters:\n",
    "    inputstring - the string to test\n",
    "    \"\"\"\n",
    "    if str.lower(inputstring) == str.lower(reverse(inputstring)): #uses the str.lower function in case the user enters upper case\n",
    "        return True\n",
    "    else:\n",
    "        return False\n",
    "\n",
    "is_palindrome(\"popop\")"
   ]
  },
  {
   "cell_type": "code",
   "execution_count": 18,
   "metadata": {
    "collapsed": false
   },
   "outputs": [
    {
     "data": {
      "text/plain": [
       "True"
      ]
     },
     "execution_count": 18,
     "metadata": {},
     "output_type": "execute_result"
    }
   ],
   "source": [
    "def is_member(value, list):\n",
    "    \"\"\"\n",
    "    This function takes a value and a list and returns True if the value is a member of the list and False otherwise.\n",
    "    \n",
    "    Parameters:\n",
    "    value - the value to check\n",
    "    list - the list of values\n",
    "    \"\"\"\n",
    "    x = 0\n",
    "    for i in range(0,len(list)):\n",
    "        if value == list[i]:\n",
    "            x=x+1\n",
    "    if x>=1:\n",
    "        return True\n",
    "    else:\n",
    "        return False\n",
    "\n",
    "is_member(1, [1, 2, 3])"
   ]
  },
  {
   "cell_type": "code",
   "execution_count": 5,
   "metadata": {
    "collapsed": false
   },
   "outputs": [
    {
     "data": {
      "text/plain": [
       "True"
      ]
     },
     "execution_count": 5,
     "metadata": {},
     "output_type": "execute_result"
    }
   ],
   "source": [
    "def overlapping(list1, list2):\n",
    "    \"\"\"\n",
    "    This function takes two lists and returns True if they have at least one member in common and False otherwise.\n",
    "    \n",
    "    Parameters:\n",
    "    list1 - the first list\n",
    "    list2 - the second list\n",
    "    \"\"\"\n",
    "    x = 0\n",
    "    for i in range(len(list1)):\n",
    "        for j in range(len(list2)):\n",
    "            if list1[i] ==list2[j]:\n",
    "                x = x+1\n",
    "    if x>=1:\n",
    "        return True\n",
    "    else:\n",
    "        return False\n",
    "\n",
    "overlapping([1, 2], [2])"
   ]
  },
  {
   "cell_type": "code",
   "execution_count": 3,
   "metadata": {
    "collapsed": false
   },
   "outputs": [
    {
     "name": "stdout",
     "output_type": "stream",
     "text": [
      "****\n",
      "*********\n",
      "*******\n"
     ]
    }
   ],
   "source": [
    "def test(list):\n",
    "    for i in range(len(list)):\n",
    "        print(list[i]*'*')\n",
    "        \n",
    "test([4,9,7])\n"
   ]
  },
  {
   "cell_type": "code",
   "execution_count": 5,
   "metadata": {
    "collapsed": false
   },
   "outputs": [
    {
     "name": "stdout",
     "output_type": "stream",
     "text": [
      "****\n",
      "*********\n",
      "*******\n"
     ]
    }
   ],
   "source": [
    "def generate_n_char(number, letter):\n",
    "    \"\"\"\n",
    "    This function takes an integer n and a character c and returns a string n characters long consisting of c's\n",
    "    \n",
    "    Parameters:\n",
    "    number - the integer\n",
    "    letter - the character\n",
    "    \"\"\"\n",
    "    output=\"\"\n",
    "    for i in range(number):\n",
    "        output = output + letter\n",
    "    return output\n",
    "\n",
    "generate_n_char(32, 'x')\n",
    "\n",
    "def histy(list):\n",
    "    for i in list:\n",
    "        print(generate_n_char(i, '*'))\n",
    "\n",
    "histy([4,9,7])"
   ]
  },
  {
   "cell_type": "code",
   "execution_count": 16,
   "metadata": {
    "collapsed": false
   },
   "outputs": [
    {
     "data": {
      "text/plain": [
       "6"
      ]
     },
     "execution_count": 16,
     "metadata": {},
     "output_type": "execute_result"
    }
   ],
   "source": [
    "def max_in_list(list):\n",
    "    max_num = list[0]\n",
    "    if len(list) == 1:\n",
    "        return max_num\n",
    "    else:\n",
    "        for i in list[1:len(list)]:\n",
    "            if i >= max_num:\n",
    "                max_num = i\n",
    "    return max_num\n",
    "\n",
    "max_in_list([1,3,6])"
   ]
  },
  {
   "cell_type": "code",
   "execution_count": 25,
   "metadata": {
    "collapsed": false
   },
   "outputs": [
    {
     "data": {
      "text/plain": [
       "[21, 5, 2, 0]"
      ]
     },
     "execution_count": 25,
     "metadata": {},
     "output_type": "execute_result"
    }
   ],
   "source": [
    "def word_length_list(list):\n",
    "    length_list = []\n",
    "    for i in list:\n",
    "        length_list = length_list + [len(i)]\n",
    "    return length_list\n",
    "\n",
    "word_length_list(['this is a long string', 'yikes', 'no', ''])"
   ]
  },
  {
   "cell_type": "code",
   "execution_count": 36,
   "metadata": {
    "collapsed": false
   },
   "outputs": [
    {
     "data": {
      "text/plain": [
       "4"
      ]
     },
     "execution_count": 36,
     "metadata": {},
     "output_type": "execute_result"
    }
   ],
   "source": [
    "def find_longest_word(list):\n",
    "    length_list = []\n",
    "    for i in list:\n",
    "        length_list = length_list + [len(i)]\n",
    "    sortedlist = sorted(length_list)\n",
    "    return sortedlist[-1]\n",
    "    \n",
    "\n",
    "find_longest_word(['s','math'])"
   ]
  },
  {
   "cell_type": "code",
   "execution_count": 2,
   "metadata": {
    "collapsed": false
   },
   "outputs": [
    {
     "data": {
      "text/plain": [
       "['sometimes']"
      ]
     },
     "execution_count": 2,
     "metadata": {},
     "output_type": "execute_result"
    }
   ],
   "source": [
    "def filter_long_words(list, n):\n",
    "    list_of_words = []\n",
    "    for i in range(len(list)):\n",
    "        if len(list[i]) > n:\n",
    "            list_of_words = list_of_words + [list[i]]\n",
    "    return list_of_words\n",
    "\n",
    "filter_long_words(['yes','no','maybe','sometimes','whenever'],8)"
   ]
  },
  {
   "cell_type": "code",
   "execution_count": 7,
   "metadata": {
    "collapsed": false
   },
   "outputs": [
    {
     "data": {
      "text/plain": [
       "'stonies'"
      ]
     },
     "execution_count": 7,
     "metadata": {},
     "output_type": "execute_result"
    }
   ],
   "source": [
    "def make_3sg_form(verb):\n",
    "    if verb.endswith('y'):\n",
    "        return verb[:-1]+'ies'\n",
    "    elif verb.endswith(('o','ch','s','sh','x','z')):\n",
    "        return verb + 'es'\n",
    "    else:\n",
    "        return verb + 's'\n",
    "    \n",
    "make_3sg_form('stony')"
   ]
  },
  {
   "cell_type": "code",
   "execution_count": 76,
   "metadata": {
    "collapsed": false
   },
   "outputs": [
    {
     "name": "stdout",
     "output_type": "stream",
     "text": [
      "lying\n",
      "fleeing\n",
      "being\n",
      "hugging\n"
     ]
    }
   ],
   "source": [
    "def is_vowel(letter):\n",
    "    \"\"\"\n",
    "    This function takes a character and returns True if it is a vowel and False otherwise.\n",
    "    \n",
    "    Parameters:\n",
    "    letter - the character to test\n",
    "    \"\"\"\n",
    "    if letter in ('a', 'A', 'e', 'E', 'i', 'I', 'o', 'O', 'u', 'U'):\n",
    "        return True\n",
    "    else:\n",
    "        return False\n",
    "\n",
    "def make_ing_form(verb):\n",
    "    if verb.endswith('ie'):\n",
    "        return verb[:-2] + 'ying'\n",
    "    elif verb.endswith('ee'):\n",
    "        return verb + 'ing'\n",
    "    elif verb.endswith('e') and not (len(verb) == 2):\n",
    "        return verb[:-1] + 'ing'\n",
    "    elif len(verb) == 3 and (is_vowel(verb[1])) and not ((is_vowel(verb[0])) and (is_vowel(verb[2]))):\n",
    "        return verb + verb[2] + 'ing'\n",
    "    else:\n",
    "        return verb + 'ing'\n",
    "    \n",
    "print(make_ing_form('lie'))\n",
    "print(make_ing_form('flee'))\n",
    "print(make_ing_form('be'))\n",
    "print(make_ing_form('hug'))"
   ]
  },
  {
   "cell_type": "code",
   "execution_count": 10,
   "metadata": {
    "collapsed": false
   },
   "outputs": [
    {
     "data": {
      "text/plain": [
       "False"
      ]
     },
     "execution_count": 10,
     "metadata": {},
     "output_type": "execute_result"
    }
   ],
   "source": [
    "def reverse(string):\n",
    "    \"\"\"\n",
    "    This function computes the reversal of a string.\n",
    "    \n",
    "    Parameters:\n",
    "    string - the string to reverse\n",
    "    \"\"\"\n",
    "    reversedstring=\"\"\n",
    "    \n",
    "    for i in range(0,len(string)):\n",
    "        reversedstring = reversedstring + string[-i-1]\n",
    "    return reversedstring\n",
    "\n",
    "def removespecialcharacters(inputstring):\n",
    "    newstring = \"\"\n",
    "    stringlength = len(inputstring)\n",
    "    \n",
    "    for i in range(stringlength):\n",
    "        if (inputstring[i] == \" \" or\n",
    "           inputstring[i] == \"\\\"\\\"\" or\n",
    "           inputstring[i] == \"?\" or\n",
    "           inputstring[i] == \",\" or\n",
    "           inputstring[i] == \".\" or\n",
    "           inputstring[i] == \":\" or\n",
    "           inputstring[i] == \";\" or\n",
    "           inputstring[i] == \"'\" or\n",
    "           inputstring[i] == \"\\\"\" or\n",
    "           inputstring[i] == \"-\"):\n",
    "            newstring = newstring\n",
    "        else:\n",
    "            newstring = newstring + inputstring[i]\n",
    "    return newstring\n",
    "\n",
    "def phrase_is_palindrome(phrase):\n",
    "    \n",
    "    reversedphrase = reverse(phrase)\n",
    "    newphrase = removespecialcharacters(phrase)\n",
    "    newreversedphrase = removespecialcharacters(reversedphrase)\n",
    "    \n",
    "    if str.lower(newphrase) == str.lower(newreversedphrase): #uses the str.lower function in case the user enters upper case\n",
    "        return True\n",
    "    else:\n",
    "        return False\n",
    "\n",
    "phrase_is_palindrome(\"Dammit, I'm mad\")"
   ]
  },
  {
   "cell_type": "code",
   "execution_count": 15,
   "metadata": {
    "collapsed": false
   },
   "outputs": [
    {
     "data": {
      "text/plain": [
       "True"
      ]
     },
     "execution_count": 15,
     "metadata": {},
     "output_type": "execute_result"
    }
   ],
   "source": [
    "def is_pangram(sentence):\n",
    "    alphabet = 'abcdefghijklmnopqrstuvwxyz'\n",
    "    alphabetcount = 0\n",
    "    \n",
    "    if len(sentence) < 26:\n",
    "        return False\n",
    "    else:\n",
    "        sentence = str.lower(sentence)\n",
    "        \n",
    "        for i in range(len(alphabet)):\n",
    "            if alphabet[i] in sentence:\n",
    "                alphabetcount = alphabetcount + 1\n",
    "                \n",
    "        if alphabetcount == 26:\n",
    "            return True\n",
    "        else:\n",
    "            return False\n",
    "is_pangram(\"zxvbnmlkjhgfdsaqwertyuiop xvXCnjzkfnjdskp.\")"
   ]
  },
  {
   "cell_type": "code",
   "execution_count": 25,
   "metadata": {
    "collapsed": false
   },
   "outputs": [
    {
     "name": "stdout",
     "output_type": "stream",
     "text": [
      "99 bottles of beer on the wall, 99 bottles of beer.\n",
      "Take one down, pass it around, 98 bottles of beer on the wall\n",
      " \n",
      "98 bottles of beer on the wall, 98 bottles of beer.\n",
      "Take one down, pass it around, 97 bottles of beer on the wall\n",
      " \n",
      "97 bottles of beer on the wall, 97 bottles of beer.\n",
      "Take one down, pass it around, 96 bottles of beer on the wall\n",
      " \n",
      "96 bottles of beer on the wall, 96 bottles of beer.\n",
      "Take one down, pass it around, 95 bottles of beer on the wall\n",
      " \n",
      "95 bottles of beer on the wall, 95 bottles of beer.\n",
      "Take one down, pass it around, 94 bottles of beer on the wall\n",
      " \n",
      "94 bottles of beer on the wall, 94 bottles of beer.\n",
      "Take one down, pass it around, 93 bottles of beer on the wall\n",
      " \n",
      "93 bottles of beer on the wall, 93 bottles of beer.\n",
      "Take one down, pass it around, 92 bottles of beer on the wall\n",
      " \n",
      "92 bottles of beer on the wall, 92 bottles of beer.\n",
      "Take one down, pass it around, 91 bottles of beer on the wall\n",
      " \n",
      "91 bottles of beer on the wall, 91 bottles of beer.\n",
      "Take one down, pass it around, 90 bottles of beer on the wall\n",
      " \n",
      "90 bottles of beer on the wall, 90 bottles of beer.\n",
      "Take one down, pass it around, 89 bottles of beer on the wall\n",
      " \n",
      "89 bottles of beer on the wall, 89 bottles of beer.\n",
      "Take one down, pass it around, 88 bottles of beer on the wall\n",
      " \n",
      "88 bottles of beer on the wall, 88 bottles of beer.\n",
      "Take one down, pass it around, 87 bottles of beer on the wall\n",
      " \n",
      "87 bottles of beer on the wall, 87 bottles of beer.\n",
      "Take one down, pass it around, 86 bottles of beer on the wall\n",
      " \n",
      "86 bottles of beer on the wall, 86 bottles of beer.\n",
      "Take one down, pass it around, 85 bottles of beer on the wall\n",
      " \n",
      "85 bottles of beer on the wall, 85 bottles of beer.\n",
      "Take one down, pass it around, 84 bottles of beer on the wall\n",
      " \n",
      "84 bottles of beer on the wall, 84 bottles of beer.\n",
      "Take one down, pass it around, 83 bottles of beer on the wall\n",
      " \n",
      "83 bottles of beer on the wall, 83 bottles of beer.\n",
      "Take one down, pass it around, 82 bottles of beer on the wall\n",
      " \n",
      "82 bottles of beer on the wall, 82 bottles of beer.\n",
      "Take one down, pass it around, 81 bottles of beer on the wall\n",
      " \n",
      "81 bottles of beer on the wall, 81 bottles of beer.\n",
      "Take one down, pass it around, 80 bottles of beer on the wall\n",
      " \n",
      "80 bottles of beer on the wall, 80 bottles of beer.\n",
      "Take one down, pass it around, 79 bottles of beer on the wall\n",
      " \n",
      "79 bottles of beer on the wall, 79 bottles of beer.\n",
      "Take one down, pass it around, 78 bottles of beer on the wall\n",
      " \n",
      "78 bottles of beer on the wall, 78 bottles of beer.\n",
      "Take one down, pass it around, 77 bottles of beer on the wall\n",
      " \n",
      "77 bottles of beer on the wall, 77 bottles of beer.\n",
      "Take one down, pass it around, 76 bottles of beer on the wall\n",
      " \n",
      "76 bottles of beer on the wall, 76 bottles of beer.\n",
      "Take one down, pass it around, 75 bottles of beer on the wall\n",
      " \n",
      "75 bottles of beer on the wall, 75 bottles of beer.\n",
      "Take one down, pass it around, 74 bottles of beer on the wall\n",
      " \n",
      "74 bottles of beer on the wall, 74 bottles of beer.\n",
      "Take one down, pass it around, 73 bottles of beer on the wall\n",
      " \n",
      "73 bottles of beer on the wall, 73 bottles of beer.\n",
      "Take one down, pass it around, 72 bottles of beer on the wall\n",
      " \n",
      "72 bottles of beer on the wall, 72 bottles of beer.\n",
      "Take one down, pass it around, 71 bottles of beer on the wall\n",
      " \n",
      "71 bottles of beer on the wall, 71 bottles of beer.\n",
      "Take one down, pass it around, 70 bottles of beer on the wall\n",
      " \n",
      "70 bottles of beer on the wall, 70 bottles of beer.\n",
      "Take one down, pass it around, 69 bottles of beer on the wall\n",
      " \n",
      "69 bottles of beer on the wall, 69 bottles of beer.\n",
      "Take one down, pass it around, 68 bottles of beer on the wall\n",
      " \n",
      "68 bottles of beer on the wall, 68 bottles of beer.\n",
      "Take one down, pass it around, 67 bottles of beer on the wall\n",
      " \n",
      "67 bottles of beer on the wall, 67 bottles of beer.\n",
      "Take one down, pass it around, 66 bottles of beer on the wall\n",
      " \n",
      "66 bottles of beer on the wall, 66 bottles of beer.\n",
      "Take one down, pass it around, 65 bottles of beer on the wall\n",
      " \n",
      "65 bottles of beer on the wall, 65 bottles of beer.\n",
      "Take one down, pass it around, 64 bottles of beer on the wall\n",
      " \n",
      "64 bottles of beer on the wall, 64 bottles of beer.\n",
      "Take one down, pass it around, 63 bottles of beer on the wall\n",
      " \n",
      "63 bottles of beer on the wall, 63 bottles of beer.\n",
      "Take one down, pass it around, 62 bottles of beer on the wall\n",
      " \n",
      "62 bottles of beer on the wall, 62 bottles of beer.\n",
      "Take one down, pass it around, 61 bottles of beer on the wall\n",
      " \n",
      "61 bottles of beer on the wall, 61 bottles of beer.\n",
      "Take one down, pass it around, 60 bottles of beer on the wall\n",
      " \n",
      "60 bottles of beer on the wall, 60 bottles of beer.\n",
      "Take one down, pass it around, 59 bottles of beer on the wall\n",
      " \n",
      "59 bottles of beer on the wall, 59 bottles of beer.\n",
      "Take one down, pass it around, 58 bottles of beer on the wall\n",
      " \n",
      "58 bottles of beer on the wall, 58 bottles of beer.\n",
      "Take one down, pass it around, 57 bottles of beer on the wall\n",
      " \n",
      "57 bottles of beer on the wall, 57 bottles of beer.\n",
      "Take one down, pass it around, 56 bottles of beer on the wall\n",
      " \n",
      "56 bottles of beer on the wall, 56 bottles of beer.\n",
      "Take one down, pass it around, 55 bottles of beer on the wall\n",
      " \n",
      "55 bottles of beer on the wall, 55 bottles of beer.\n",
      "Take one down, pass it around, 54 bottles of beer on the wall\n",
      " \n",
      "54 bottles of beer on the wall, 54 bottles of beer.\n",
      "Take one down, pass it around, 53 bottles of beer on the wall\n",
      " \n",
      "53 bottles of beer on the wall, 53 bottles of beer.\n",
      "Take one down, pass it around, 52 bottles of beer on the wall\n",
      " \n",
      "52 bottles of beer on the wall, 52 bottles of beer.\n",
      "Take one down, pass it around, 51 bottles of beer on the wall\n",
      " \n",
      "51 bottles of beer on the wall, 51 bottles of beer.\n",
      "Take one down, pass it around, 50 bottles of beer on the wall\n",
      " \n",
      "50 bottles of beer on the wall, 50 bottles of beer.\n",
      "Take one down, pass it around, 49 bottles of beer on the wall\n",
      " \n",
      "49 bottles of beer on the wall, 49 bottles of beer.\n",
      "Take one down, pass it around, 48 bottles of beer on the wall\n",
      " \n",
      "48 bottles of beer on the wall, 48 bottles of beer.\n",
      "Take one down, pass it around, 47 bottles of beer on the wall\n",
      " \n",
      "47 bottles of beer on the wall, 47 bottles of beer.\n",
      "Take one down, pass it around, 46 bottles of beer on the wall\n",
      " \n",
      "46 bottles of beer on the wall, 46 bottles of beer.\n",
      "Take one down, pass it around, 45 bottles of beer on the wall\n",
      " \n",
      "45 bottles of beer on the wall, 45 bottles of beer.\n",
      "Take one down, pass it around, 44 bottles of beer on the wall\n",
      " \n",
      "44 bottles of beer on the wall, 44 bottles of beer.\n",
      "Take one down, pass it around, 43 bottles of beer on the wall\n",
      " \n",
      "43 bottles of beer on the wall, 43 bottles of beer.\n",
      "Take one down, pass it around, 42 bottles of beer on the wall\n",
      " \n",
      "42 bottles of beer on the wall, 42 bottles of beer.\n",
      "Take one down, pass it around, 41 bottles of beer on the wall\n",
      " \n",
      "41 bottles of beer on the wall, 41 bottles of beer.\n",
      "Take one down, pass it around, 40 bottles of beer on the wall\n",
      " \n",
      "40 bottles of beer on the wall, 40 bottles of beer.\n",
      "Take one down, pass it around, 39 bottles of beer on the wall\n",
      " \n",
      "39 bottles of beer on the wall, 39 bottles of beer.\n",
      "Take one down, pass it around, 38 bottles of beer on the wall\n",
      " \n",
      "38 bottles of beer on the wall, 38 bottles of beer.\n",
      "Take one down, pass it around, 37 bottles of beer on the wall\n",
      " \n",
      "37 bottles of beer on the wall, 37 bottles of beer.\n",
      "Take one down, pass it around, 36 bottles of beer on the wall\n",
      " \n",
      "36 bottles of beer on the wall, 36 bottles of beer.\n",
      "Take one down, pass it around, 35 bottles of beer on the wall\n",
      " \n",
      "35 bottles of beer on the wall, 35 bottles of beer.\n",
      "Take one down, pass it around, 34 bottles of beer on the wall\n",
      " \n",
      "34 bottles of beer on the wall, 34 bottles of beer.\n",
      "Take one down, pass it around, 33 bottles of beer on the wall\n",
      " \n",
      "33 bottles of beer on the wall, 33 bottles of beer.\n",
      "Take one down, pass it around, 32 bottles of beer on the wall\n",
      " \n",
      "32 bottles of beer on the wall, 32 bottles of beer.\n",
      "Take one down, pass it around, 31 bottles of beer on the wall\n",
      " \n",
      "31 bottles of beer on the wall, 31 bottles of beer.\n",
      "Take one down, pass it around, 30 bottles of beer on the wall\n",
      " \n",
      "30 bottles of beer on the wall, 30 bottles of beer.\n",
      "Take one down, pass it around, 29 bottles of beer on the wall\n",
      " \n",
      "29 bottles of beer on the wall, 29 bottles of beer.\n",
      "Take one down, pass it around, 28 bottles of beer on the wall\n",
      " \n",
      "28 bottles of beer on the wall, 28 bottles of beer.\n",
      "Take one down, pass it around, 27 bottles of beer on the wall\n",
      " \n",
      "27 bottles of beer on the wall, 27 bottles of beer.\n",
      "Take one down, pass it around, 26 bottles of beer on the wall\n",
      " \n",
      "26 bottles of beer on the wall, 26 bottles of beer.\n",
      "Take one down, pass it around, 25 bottles of beer on the wall\n",
      " \n",
      "25 bottles of beer on the wall, 25 bottles of beer.\n",
      "Take one down, pass it around, 24 bottles of beer on the wall\n",
      " \n",
      "24 bottles of beer on the wall, 24 bottles of beer.\n",
      "Take one down, pass it around, 23 bottles of beer on the wall\n",
      " \n",
      "23 bottles of beer on the wall, 23 bottles of beer.\n",
      "Take one down, pass it around, 22 bottles of beer on the wall\n",
      " \n",
      "22 bottles of beer on the wall, 22 bottles of beer.\n",
      "Take one down, pass it around, 21 bottles of beer on the wall\n",
      " \n",
      "21 bottles of beer on the wall, 21 bottles of beer.\n",
      "Take one down, pass it around, 20 bottles of beer on the wall\n",
      " \n",
      "20 bottles of beer on the wall, 20 bottles of beer.\n",
      "Take one down, pass it around, 19 bottles of beer on the wall\n",
      " \n",
      "19 bottles of beer on the wall, 19 bottles of beer.\n",
      "Take one down, pass it around, 18 bottles of beer on the wall\n",
      " \n",
      "18 bottles of beer on the wall, 18 bottles of beer.\n",
      "Take one down, pass it around, 17 bottles of beer on the wall\n",
      " \n",
      "17 bottles of beer on the wall, 17 bottles of beer.\n",
      "Take one down, pass it around, 16 bottles of beer on the wall\n",
      " \n",
      "16 bottles of beer on the wall, 16 bottles of beer.\n",
      "Take one down, pass it around, 15 bottles of beer on the wall\n",
      " \n",
      "15 bottles of beer on the wall, 15 bottles of beer.\n",
      "Take one down, pass it around, 14 bottles of beer on the wall\n",
      " \n",
      "14 bottles of beer on the wall, 14 bottles of beer.\n",
      "Take one down, pass it around, 13 bottles of beer on the wall\n",
      " \n",
      "13 bottles of beer on the wall, 13 bottles of beer.\n",
      "Take one down, pass it around, 12 bottles of beer on the wall\n",
      " \n",
      "12 bottles of beer on the wall, 12 bottles of beer.\n",
      "Take one down, pass it around, 11 bottles of beer on the wall\n",
      " \n",
      "11 bottles of beer on the wall, 11 bottles of beer.\n",
      "Take one down, pass it around, 10 bottles of beer on the wall\n",
      " \n",
      "10 bottles of beer on the wall, 10 bottles of beer.\n",
      "Take one down, pass it around, 9 bottles of beer on the wall\n",
      " \n",
      "9 bottles of beer on the wall, 9 bottles of beer.\n",
      "Take one down, pass it around, 8 bottles of beer on the wall\n",
      " \n",
      "8 bottles of beer on the wall, 8 bottles of beer.\n",
      "Take one down, pass it around, 7 bottles of beer on the wall\n",
      " \n",
      "7 bottles of beer on the wall, 7 bottles of beer.\n",
      "Take one down, pass it around, 6 bottles of beer on the wall\n",
      " \n",
      "6 bottles of beer on the wall, 6 bottles of beer.\n",
      "Take one down, pass it around, 5 bottles of beer on the wall\n",
      " \n",
      "5 bottles of beer on the wall, 5 bottles of beer.\n",
      "Take one down, pass it around, 4 bottles of beer on the wall\n",
      " \n",
      "4 bottles of beer on the wall, 4 bottles of beer.\n",
      "Take one down, pass it around, 3 bottles of beer on the wall\n",
      " \n",
      "3 bottles of beer on the wall, 3 bottles of beer.\n",
      "Take one down, pass it around, 2 bottles of beer on the wall\n",
      " \n",
      "2 bottles of beer on the wall, 2 bottles of beer.\n",
      "Take one down, pass it around, 1 bottles of beer on the wall\n",
      " \n",
      "1 bottles of beer on the wall, 1 bottles of beer.\n",
      "Take one down, pass it around, 0 bottles of beer on the wall\n",
      " \n"
     ]
    }
   ],
   "source": [
    "def singbottlesofbeer():\n",
    "    count = 99\n",
    "    while count > 0:\n",
    "        print(str(count) + \" bottles of beer on the wall, \" + str(count) + \" bottles of beer.\")\n",
    "        print(\"Take one down, pass it around, \" + str(count-1) + \" bottles of beer on the wall\")\n",
    "        print(\" \")\n",
    "        count = count - 1\n",
    "\n",
    "singbottlesofbeer()"
   ]
  },
  {
   "cell_type": "code",
   "execution_count": 65,
   "metadata": {
    "collapsed": false
   },
   "outputs": [
    {
     "data": {
      "text/plain": [
       "['god', 'jul', 'och', 'gott', 'nytt', 'år', 'nytt']"
      ]
     },
     "execution_count": 65,
     "metadata": {},
     "output_type": "execute_result"
    }
   ],
   "source": [
    "def translate(list):\n",
    "    dictionary = {\"merry\":\"god\",\n",
    "                 \"christmas\":\"jul\",\n",
    "                 \"and\":\"och\",\n",
    "                 \"happy\":\"gott\",\n",
    "                 \"new\":\"nytt\",\n",
    "                 \"year\":\"år\"}\n",
    "    translatedlist = []\n",
    "    for i in list:\n",
    "        if i in dictionary:\n",
    "            translatedlist = translatedlist + [dictionary[i]]\n",
    "    return translatedlist\n",
    "    \n",
    "translate([\"merry\", \"christmas\", \"and\", \"happy\", \"new\", \"year\", \"new\"])"
   ]
  },
  {
   "cell_type": "code",
   "execution_count": 61,
   "metadata": {
    "collapsed": false
   },
   "outputs": [
    {
     "data": {
      "text/plain": [
       "{'a': 7, 'b': 14, 'c': 3, 'd': 3, 'v': 1}"
      ]
     },
     "execution_count": 61,
     "metadata": {},
     "output_type": "execute_result"
    }
   ],
   "source": [
    "def char_freq(string):\n",
    "    dictionary = {}\n",
    "    for i in range(len(string)):\n",
    "        if string[i] in dictionary:\n",
    "            dictionary[string[i]] = dictionary[string[i]] + 1\n",
    "        else:\n",
    "            dictionary[string[i]] = 1\n",
    "    return dictionary\n",
    "\n",
    "char_freq(\"abbabcbdbabdbdbabababcbcbabv\")"
   ]
  },
  {
   "cell_type": "code",
   "execution_count": 70,
   "metadata": {
    "collapsed": false
   },
   "outputs": [
    {
     "data": {
      "text/plain": [
       "'Pnrfne pvcure? V zhpu cersre Pnrfne fnynq!'"
      ]
     },
     "execution_count": 70,
     "metadata": {},
     "output_type": "execute_result"
    }
   ],
   "source": [
    "def decoder_encoder(string):\n",
    "    newstring = \"\"\n",
    "    key = {'a':'n', 'b':'o', 'c':'p', 'd':'q', 'e':'r', 'f':'s', 'g':'t', 'h':'u', \n",
    "           'i':'v', 'j':'w', 'k':'x', 'l':'y', 'm':'z', 'n':'a', 'o':'b', 'p':'c', \n",
    "           'q':'d', 'r':'e', 's':'f', 't':'g', 'u':'h', 'v':'i', 'w':'j', 'x':'k',\n",
    "           'y':'l', 'z':'m', 'A':'N', 'B':'O', 'C':'P', 'D':'Q', 'E':'R', 'F':'S', \n",
    "           'G':'T', 'H':'U', 'I':'V', 'J':'W', 'K':'X', 'L':'Y', 'M':'Z', 'N':'A', \n",
    "           'O':'B', 'P':'C', 'Q':'D', 'R':'E', 'S':'F', 'T':'G', 'U':'H', 'V':'I', \n",
    "           'W':'J', 'X':'K', 'Y':'L', 'Z':'M'}\n",
    "    for i in string:\n",
    "        if i in key:\n",
    "            newstring = newstring + key[i]\n",
    "        else:\n",
    "            newstring = newstring + i\n",
    "    return newstring\n",
    "\n",
    "decoder_encoder(\"Caesar cipher? I much prefer Caesar salad!\")"
   ]
  },
  {
   "cell_type": "code",
   "execution_count": 72,
   "metadata": {
    "collapsed": false
   },
   "outputs": [
    {
     "data": {
      "text/plain": [
       "'This is very funny and cool. Indeed!'"
      ]
     },
     "execution_count": 72,
     "metadata": {},
     "output_type": "execute_result"
    }
   ],
   "source": [
    "def correct(string):\n",
    "    import re\n",
    "    correctedstring = re.sub('\\ +',' ',string)\n",
    "    correctedstring = re.sub('\\.', '. ',correctedstring)\n",
    "    return correctedstring\n",
    "\n",
    "correct(\"This       is   very  funny  and  cool.Indeed!\")"
   ]
  },
  {
   "cell_type": "code",
   "execution_count": null,
   "metadata": {
    "collapsed": true
   },
   "outputs": [],
   "source": []
  }
 ],
 "metadata": {
  "kernelspec": {
   "display_name": "Python 3",
   "language": "python",
   "name": "python3"
  },
  "language_info": {
   "codemirror_mode": {
    "name": "ipython",
    "version": 3
   },
   "file_extension": ".py",
   "mimetype": "text/x-python",
   "name": "python",
   "nbconvert_exporter": "python",
   "pygments_lexer": "ipython3",
   "version": "3.3.5"
  }
 },
 "nbformat": 4,
 "nbformat_minor": 0
}
