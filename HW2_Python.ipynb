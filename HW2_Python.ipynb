{
 "cells": [
  {
   "cell_type": "code",
   "execution_count": 1,
   "metadata": {
    "collapsed": false
   },
   "outputs": [
    {
     "name": "stdout",
     "output_type": "stream",
     "text": [
      "0\n",
      "1\n",
      "1\n",
      "2\n",
      "3\n"
     ]
    }
   ],
   "source": [
    "def fib(n):\n",
    "    \"\"\"\n",
    "    This function takes a number n and prints all the Fibonacci numbers less than n.\n",
    "    \n",
    "    Parameters:\n",
    "    n - the number which is the upper limit of the Fibonacci numbers\n",
    "    \"\"\"\n",
    "    a = 0\n",
    "    b = 1 #0 and 1 are the starting values for the Fibonacci numbers\n",
    "    while a < n:\n",
    "        print(a)\n",
    "        c = a # c is a placeholder for a as the value of a changes in the next line\n",
    "        a = b\n",
    "        b = c+b\n",
    "               \n",
    "fib(4)"
   ]
  },
  {
   "cell_type": "code",
   "execution_count": 2,
   "metadata": {
    "collapsed": false
   },
   "outputs": [
    {
     "data": {
      "text/plain": [
       "100"
      ]
     },
     "execution_count": 2,
     "metadata": {},
     "output_type": "execute_result"
    }
   ],
   "source": [
    "def mymax(first, second):\n",
    "    \"\"\"\n",
    "    This function takes two numbers as arguments and returns the largest of them.\n",
    "    \n",
    "    Parameters:\n",
    "    first - the first number\n",
    "    second - the second number\n",
    "    \"\"\"\n",
    "    if first >= second:\n",
    "        return first\n",
    "    else:\n",
    "        return second\n",
    "    \n",
    "mymax(100, 100)"
   ]
  },
  {
   "cell_type": "code",
   "execution_count": 13,
   "metadata": {
    "collapsed": false
   },
   "outputs": [
    {
     "data": {
      "text/plain": [
       "100"
      ]
     },
     "execution_count": 13,
     "metadata": {},
     "output_type": "execute_result"
    }
   ],
   "source": [
    "def max_of_three(first, second, third):\n",
    "    \"\"\"\n",
    "    This function takes three numbers as arguments and returns the largest of them.\n",
    "    \n",
    "    Parameters:\n",
    "    first - the first number\n",
    "    second - the second number\n",
    "    third - the third number\n",
    "    \"\"\"\n",
    "    if (first >= second) and (first >= third): #in this case first is the largest\n",
    "        return first\n",
    "    elif (second >= first) and (second >= third): #in this case second is the largest\n",
    "        return second\n",
    "    else: #if first and second are both not the largest, then third must be the largest\n",
    "        return third\n",
    "    \n",
    "max_of_three(40,100,100)"
   ]
“AW: great comments here!”
  },
  {
   "cell_type": "code",
   "execution_count": 14,
   "metadata": {
    "collapsed": false
   },
   "outputs": [
    {
     "data": {
      "text/plain": [
       "21"
      ]
     },
     "execution_count": 14,
     "metadata": {},
     "output_type": "execute_result"
    }
   ],
   "source": [
    "def mylen(string):\n",
    "    \"\"\"\n",
    "    This function computes the length of a given list or string.\n",
    "    \n",
    "    Parameters:\n",
    "    string - the list or string to compute the length of\n",
    "    \"\"\"\n",
    "    count=0\n",
    "    for i in string:\n",
    "        count=count+1 #adds one for each member of the list or character in the string\n",
    "    return count\n",
    "\n",
    "mylen('this string is a test')"
   ]
  },
  {
   "cell_type": "code",
   "execution_count": 16,
   "metadata": {
    "collapsed": false
   },
   "outputs": [
    {
     "data": {
      "text/plain": [
       "False"
      ]
     },
     "execution_count": 16,
     "metadata": {},
     "output_type": "execute_result"
    }
   ],
   "source": [
    "def is_vowel(letter):\n",
    "    \"\"\"\n",
    "    This function takes a character and returns True if it is a vowel and False otherwise.\n",
    "    \n",
    "    Parameters:\n",
    "    letter - the character to test\n",
    "    \"\"\"\n",
    "    if letter in ('a', 'A', 'e', 'E', 'i', 'I', 'o', 'O', 'u', 'U'): #this is a list of all upper case and lower case vowels\n",
    "        return True\n",
    "    else:\n",
    "        return False\n",
    "\n",
    "is_vowel('d')"
   ]
  },
  {
   "cell_type": "code",
   "execution_count": 17,
   "metadata": {
    "collapsed": false
   },
   "outputs": [
    {
     "data": {
      "text/plain": [
       "'tothohisos isos fofunon'"
      ]
     },
     "execution_count": 17,
     "metadata": {},
     "output_type": "execute_result"
    }
   ],
   "source": [
    "def is_vowel(letter):\n",
    "    \"\"\"\n",
    "    This function takes a character and returns True if it is a vowel and False otherwise.\n",
    "    \n",
    "    Parameters:\n",
    "    letter - the character to test\n",
    "    \"\"\"\n",
    "    if letter in ('a', 'A', 'e', 'E', 'i', 'I', 'o', 'O', 'u', 'U'): #this is a list of all upper case and lower case vowels\n",
    "        return True\n",
    "    else:\n",
    "        return False\n",
    "\n",
    "def translate(string): #this function uses the is_vowel function\n",
    "    \"\"\"\n",
    "    This function translates a string into \"rövarspråket\". It doubles every consonant and places an \"o\" in between.\n",
    "    \n",
    "    Parameters:\n",
    "    string - the string to translate\n",
    "    \"\"\"\n",
    "    translatedstring = \"\"\n",
    "    for i in range(len(string)):\n",
    "        if (is_vowel(string[i]) or string[i] == \" \"): #if the character is a vowel or space, add that character\n",
    "            translatedstring = translatedstring + str(string[i]) \n",
    "        else: #if the character is a consonant, add the consonant, an \"o\", and the consonant again\n",
    "            translatedstring = translatedstring + str(string[i]) + \"o\" + str(string[i]) \n",
    "    return translatedstring\n",
    "            \n",
    "translate(\"this is fun\")"
   ]
  },
  {
   "cell_type": "code",
   "execution_count": 18,
   "metadata": {
    "collapsed": false
   },
   "outputs": [
    {
     "data": {
      "text/plain": [
       "58"
      ]
     },
     "execution_count": 18,
     "metadata": {},
     "output_type": "execute_result"
    }
   ],
   "source": [
    "def sum(list):\n",
    "    \"\"\"\n",
    "    This function returns the sum of a list of numbers.\n",
    "    \n",
    "    Parameters:\n",
    "    list - the list of numbers to sum\n",
    "    \"\"\"\n",
    "    total=0\n",
    "    for i in range(len(list)):\n",
    "        total=total+list[i]\n",
    "    return total\n",
    "\n",
    "sum([51, 2, 5])"
   ]
  },
  {
   "cell_type": "code",
   "execution_count": 19,
   "metadata": {
    "collapsed": false
   },
   "outputs": [
    {
     "data": {
      "text/plain": [
       "240"
      ]
     },
     "execution_count": 19,
     "metadata": {},
     "output_type": "execute_result"
    }
   ],
   "source": [
    "def multiply(list):\n",
    "    \"\"\"\n",
    "    This function returns the product of a list of numbers.\n",
    "    \n",
    "    Parameters:\n",
    "    list - the list of numbers to multiply\n",
    "    \"\"\"\n",
    "    product=1\n",
    "    for i in range(len(list)):\n",
    "        product=product*list[i]\n",
    "    return product\n",
    "\n",
    "multiply([2, 8, 5, 3])"
   ]
  },
  {
   "cell_type": "code",
   "execution_count": 20,
   "metadata": {
    "collapsed": false
   },
   "outputs": [
    {
     "data": {
      "text/plain": [
       "'gnitset ma I'"
      ]
     },
     "execution_count": 20,
     "metadata": {},
     "output_type": "execute_result"
    }
   ],
   "source": [
    "def reverse(string):\n",
    "    \"\"\"\n",
    "    This function computes the reversal of a string.\n",
    "    \n",
    "    Parameters:\n",
    "    string - the string to reverse\n",
    "    \"\"\"\n",
    "    reversedstring=\"\"\n",
    "    for i in range(len(string)):\n",
    "        reversedstring = reversedstring + string[-i-1]\n",
    "    return reversedstring\n",
    "    \n",
    "reverse(\"I am testing\")"
   ]
  },
  {
   "cell_type": "code",
   "execution_count": 24,
   "metadata": {
    "collapsed": false
   },
   "outputs": [
    {
     "data": {
      "text/plain": [
       "True"
      ]
     },
     "execution_count": 24,
     "metadata": {},
     "output_type": "execute_result"
    }
   ],
   "source": [
    "def reverse(string):\n",
    "    \"\"\"\n",
    "    This function computes the reversal of a string.\n",
    "    \n",
    "    Parameters:\n",
    "    string - the string to reverse\n",
    "    \"\"\"\n",
    "    reversedstring=\"\"\n",
    "    \n",
    "    for i in range(len(string)):\n",
    "        reversedstring = reversedstring + string[-i-1]\n",
    "    return reversedstring\n",
    "\n",
    "def is_palindrome(inputstring):#this function uses the reverse function\n",
    "    \"\"\"\n",
    "    This function takes a string as an argument and retuns True if it is a palindrome and False if it is not a palindrome\n",
    "    \n",
    "    Parameters:\n",
    "    inputstring - the string to test\n",
    "    \"\"\"\n",
    "    if str.lower(inputstring) == str.lower(reverse(inputstring)): #uses the str.lower function in case the user enters upper case letters\n",
    "        return True\n",
    "    else:\n",
    "        return False\n",
    "\n",
    "is_palindrome(\"radar\")"
   ]
  },
  {
   "cell_type": "code",
   "execution_count": 3,
   "metadata": {
    "collapsed": false
   },
   "outputs": [
    {
     "data": {
      "text/plain": [
       "True"
      ]
     },
     "execution_count": 3,
     "metadata": {},
     "output_type": "execute_result"
    }
   ],
   "source": [
    "def is_member(value, list):\n",
    "    \"\"\"\n",
    "    This function takes a value and a list and returns True if the value is a member of the list and False otherwise.\n",
    "    \n",
    "    Parameters:\n",
    "    value - the value to check\n",
    "    list - the list of values\n",
    "    \"\"\"\n",
    "    x = 0\n",
    "    for i in range(0,len(list)):\n",
    "        if value == list[i]:\n",
    "            x=x+1 #adds 1 to x if the value is a member of the list\n",
    "    if x>=1:\n",
    "        return True\n",
    "    else:\n",
    "        return False\n",
    "\n",
    "is_member(3, [1, 2, 3])"
   ]
  },
  {
   "cell_type": "code",
   "execution_count": 27,
   "metadata": {
    "collapsed": false
   },
   "outputs": [
    {
     "data": {
      "text/plain": [
       "False"
      ]
     },
     "execution_count": 27,
     "metadata": {},
     "output_type": "execute_result"
    }
   ],
   "source": [
    "def overlapping(list1, list2):\n",
    "    \"\"\"\n",
    "    This function takes two lists and returns True if they have at least one member in common and False otherwise.\n",
    "    \n",
    "    Parameters:\n",
    "    list1 - the first list\n",
    "    list2 - the second list\n",
    "    \"\"\"\n",
    "    x = 0\n",
    "    for i in range(len(list1)):\n",
    "        for j in range(len(list2)):\n",
    "            if list1[i] ==list2[j]:\n",
    "                x = x+1 #adds 1 to x for each member in common\n",
    "    if x>=1:\n",
    "        return True\n",
    "    else:\n",
    "        return False\n",
    "\n",
    "overlapping([1, 2], [3, 5])"
   ]
  },
  {
   "cell_type": "code",
   "execution_count": 29,
   "metadata": {
    "collapsed": false
   },
   "outputs": [
    {
     "data": {
      "text/plain": [
       "'hhhhhhhhhhhh'"
      ]
     },
     "execution_count": 29,
     "metadata": {},
     "output_type": "execute_result"
    }
   ],
   "source": [
    "def generate_n_char(number, letter):\n",
    "    \"\"\"\n",
    "    This function takes an integer n and a character c and returns a string n characters long consisting of c's\n",
    "    \n",
    "    Parameters:\n",
    "    number - the integer\n",
    "    letter - the character\n",
    "    \"\"\"\n",
    "    output=\"\"\n",
    "    for i in range(number):\n",
    "        output = output + letter\n",
    "    return output\n",
    "\n",
    "generate_n_char(12, 'h')"
   ]
  },
  {
   "cell_type": "code",
   "execution_count": null,
   "metadata": {
    "collapsed": true
   },
   "outputs": [],
   "source": []
  }
 ],
 "metadata": {
  "kernelspec": {
   "display_name": "Python 3",
   "language": "python",
   "name": "python3"
  },
  "language_info": {
   "codemirror_mode": {
    "name": "ipython",
    "version": 3
   },
   "file_extension": ".py",
   "mimetype": "text/x-python",
   "name": "python",
   "nbconvert_exporter": "python",
   "pygments_lexer": "ipython3",
   "version": "3.3.5"
  }
 },
 "nbformat": 4,
 "nbformat_minor": 0
}
