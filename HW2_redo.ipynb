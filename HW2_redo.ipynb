{
 "cells": [
  {
   "cell_type": "code",
   "execution_count": 2,
   "metadata": {
    "collapsed": false
   },
   "outputs": [
    {
     "name": "stdout",
     "output_type": "stream",
     "text": [
      "0\n",
      "1\n",
      "1\n",
      "2\n",
      "3\n",
      "5\n",
      "8\n",
      "13\n",
      "21\n"
     ]
    }
   ],
   "source": [
    "def fib(n):\n",
    "    \"\"\"\n",
    "    This function takes a number n and prints all the Fibonacci numbers less than n.\n",
    "    \n",
    "    Parameters:\n",
    "    n - the number which is the upper limit of the Fibonacci numbers\n",
    "    \"\"\"\n",
    "    a = 0\n",
    "    b = 1 #a and b are the first two numbers in the fibonacci sequence\n",
    "    while a < n:\n",
    "        print(a) #this prints the value of a\n",
    "        c = a #c is a placeholder for a as the value of a changes in the next line\n",
    "        a = b #a becomes b which is the next number in the fibonacci sequence\n",
    "        b = c+b #b becomes the original a plus the original b which is the next number in the fibonacci sequence\n",
    "               \n",
    "fib(34)"
   ]
  },
  {
   "cell_type": "code",
   "execution_count": 4,
   "metadata": {
    "collapsed": false
   },
   "outputs": [
    {
     "data": {
      "text/plain": [
       "78"
      ]
     },
     "execution_count": 4,
     "metadata": {},
     "output_type": "execute_result"
    }
   ],
   "source": [
    "def mymax(first, second):\n",
    "    \"\"\"\n",
    "    This function takes two numbers as arguments and returns the largest of them.\n",
    "    \n",
    "    Parameters:\n",
    "    first - the first number\n",
    "    second - the second number\n",
    "    \"\"\"\n",
    "    if first >= second: #If the first number is larger than the second number\n",
    "        return first #In this case, the first number is the maximum so the first number is returned\n",
    "    else: #If the first number is not larger than the second number, than the second number is larger\n",
    "        return second #In this case, the second number is the maximum so the second number is returned\n",
    "    \n",
    "mymax(10, 78)"
   ]
  },
  {
   "cell_type": "code",
   "execution_count": 1,
   "metadata": {
    "collapsed": false
   },
   "outputs": [
    {
     "data": {
      "text/plain": [
       "2000"
      ]
     },
     "execution_count": 1,
     "metadata": {},
     "output_type": "execute_result"
    }
   ],
   "source": [
    "def max_of_three(first, second, third):\n",
    "    \"\"\"\n",
    "    This function takes three numbers as arguments and returns the largest of them.\n",
    "    \n",
    "    Parameters:\n",
    "    first - the first number\n",
    "    second - the second number\n",
    "    third - the third number\n",
    "    \"\"\"\n",
    "    if (first >= second) and (first >= third): #If the first number is larger than both the second and the third numbers\n",
    "        return first #In this case, the first number is the largest so the first number is returned\n",
    "    elif (second >= first) and (second >= third): #If the second number is larger than both the first and the third numbers\n",
    "        return second #In this case, the second number is the largest so the second number is returned\n",
    "    else: #If the first number and the second number are not the maximum\n",
    "        return third #In this case, the third number is the maximum so the third number is returned\n",
    "    \n",
    "max_of_three(600,2000,20)"
   ]
  },
  {
   "cell_type": "code",
   "execution_count": 13,
   "metadata": {
    "collapsed": false
   },
   "outputs": [
    {
     "data": {
      "text/plain": [
       "16"
      ]
     },
     "execution_count": 13,
     "metadata": {},
     "output_type": "execute_result"
    }
   ],
   "source": [
    "def mylen(string):\n",
    "    \"\"\"\n",
    "    This function computes the length of a given list or string.\n",
    "    \n",
    "    Parameters:\n",
    "    string - the list or string to compute the length of\n",
    "    \"\"\"\n",
    "    count=0 #starts the count at zero in case the input is an empty list or string\n",
    "    for i in string: #for each member of the list or charater in the string\n",
    "        count=count+1 #adds one for each member of the list or character in the string\n",
    "    return count #returns the count after the for loop has completed with the number of members of the string or characters in the list \n",
    "\n",
    "mylen('This is a string')"
   ]
  },
  {
   "cell_type": "code",
   "execution_count": 14,
   "metadata": {
    "collapsed": false
   },
   "outputs": [
    {
     "data": {
      "text/plain": [
       "True"
      ]
     },
     "execution_count": 14,
     "metadata": {},
     "output_type": "execute_result"
    }
   ],
   "source": [
    "def is_vowel(letter):\n",
    "    \"\"\"\n",
    "    This function takes a character and returns True if it is a vowel and False otherwise.\n",
    "    \n",
    "    Parameters:\n",
    "    letter - the character to test\n",
    "    \"\"\"\n",
    "    if letter in ('a', 'A', 'e', 'E', 'i', 'I', 'o', 'O', 'u', 'U'): #If the letter is in the list of all upper case and lower case vowels \n",
    "        return True #In this case, True is returned\n",
    "    else: #If the letter is not in the list of all upper case and lower case vowels, then it is not a vowel\n",
    "        return False #In this case, False is returned\n",
    "\n",
    "is_vowel('E')"
   ]
  },
  {
   "cell_type": "code",
   "execution_count": null,
   "metadata": {
    "collapsed": true
   },
   "outputs": [],
   "source": [
    "def is_vowel(letter):\n",
    "    \"\"\"\n",
    "    This function takes a character and returns True if it is a vowel and False otherwise.\n",
    "    \n",
    "    Parameters:\n",
    "    letter - the character to test\n",
    "    \"\"\"\n",
    "    if letter in ('a', 'A', 'e', 'E', 'i', 'I', 'o', 'O', 'u', 'U'): #If the letter is in the list of all upper case and lower case vowels\n",
    "        return True #In this case, True is returned\n",
    "    else: #If the letter is not in the list of all upper case and lower case vowels, then it is not a vowel\n",
    "        return False #In this case, False is returned\n",
    "\n",
    "def translate(string):\n",
    "    \"\"\"\n",
    "    This function translates a string into \"rövarspråket\". It doubles every consonant and places an \"o\" in between.\n",
    "    \n",
    "    Parameters:\n",
    "    string - the string to translate\n",
    "    \"\"\"\n",
    "    translatedstring = \"\" #the translated string begins as an empty string in case the input is an emptry string\n",
    "    for i in range(len(string)): #for the length of the string\n",
    "        if (is_vowel(string[i]) or string[i] == \" \"): #if the ith character is a vowel or a space\n",
    "            translatedstring = translatedstring + str(string[i]) #adds the vowel or space to the translated string\n",
    "        else: #if the ith character is not a vowel or space, then it is a consonant\n",
    "            translatedstring = translatedstring + str(string[i]) + \"o\" + str(string[i]) #adds the consonant then the letter \"o\"  then the consonant again to the translated string\n",
    "    return translatedstring #returns the translated string after the for loop has completed\n",
    "            \n",
    "translate(\"this is fun\")"
   ]
  },
  {
   "cell_type": "code",
   "execution_count": 1,
   "metadata": {
    "collapsed": false
   },
   "outputs": [
    {
     "data": {
      "text/plain": [
       "56"
      ]
     },
     "execution_count": 1,
     "metadata": {},
     "output_type": "execute_result"
    }
   ],
   "source": [
    "def sum(list):\n",
    "    \"\"\"\n",
    "    This function returns the sum of a list of numbers.\n",
    "    \n",
    "    Parameters:\n",
    "    list - the list of numbers to sum\n",
    "    \"\"\"\n",
    "    total=0 #starts the total at 0 in case the input is an empty list\n",
    "    for i in range(len(list)): #for the length of the list\n",
    "        total=total+list[i] #adds the ith member of the list to the total\n",
    "    return total #returns the total after the for loop has completed\n",
    "\n",
    "sum([51, 2, 3])"
   ]
  },
  {
   "cell_type": "code",
   "execution_count": 5,
   "metadata": {
    "collapsed": false
   },
   "outputs": [
    {
     "data": {
      "text/plain": [
       "180"
      ]
     },
     "execution_count": 5,
     "metadata": {},
     "output_type": "execute_result"
    }
   ],
   "source": [
    "def multiply(list):\n",
    "    \"\"\"\n",
    "    This function returns the product of a list of numbers.\n",
    "    \n",
    "    Parameters:\n",
    "    list - the list of numbers to multiply\n",
    "    \"\"\"\n",
    "    product=1 #starts the product at 1 in case the input is an empty list\n",
    "    for i in range(len(list)): #for the length of the list\n",
    "        product=product*list[i] #multiplies the product by the ith member of the list\n",
    "    return product #returns the product after the for loop has completed\n",
    "\n",
    "multiply([2,3,5,6])"
   ]
  },
  {
   "cell_type": "code",
   "execution_count": 9,
   "metadata": {
    "collapsed": false
   },
   "outputs": [
    {
     "data": {
      "text/plain": [
       "'gnitset ma I'"
      ]
     },
     "execution_count": 9,
     "metadata": {},
     "output_type": "execute_result"
    }
   ],
   "source": [
    "def reverse(string):\n",
    "    \"\"\"\n",
    "    This function computes the reversal of a string.\n",
    "    \n",
    "    Parameters:\n",
    "    string - the string to reverse\n",
    "    \"\"\"\n",
    "    reversedstring=\"\" #starts the reversed string at an empty string in case the input is an empty string\n",
    "    for i in range(len(string)): #for the length of the string\n",
    "        reversedstring = reversedstring + string[-i-1] #adds the letter which is the ith letter from the end of the string to the reversedstring. For i=0, this will add the last letter of the string. For i=1, this will return the second to last letter of the string.\n",
    "    return reversedstring #returns the reversedstring after the for loop has completed\n",
    "    \n",
    "reverse(\"I am testing\")"
   ]
  },
  {
   "cell_type": "code",
   "execution_count": 18,
   "metadata": {
    "collapsed": false
   },
   "outputs": [
    {
     "data": {
      "text/plain": [
       "True"
      ]
     },
     "execution_count": 18,
     "metadata": {},
     "output_type": "execute_result"
    }
   ],
   "source": [
    "def reverse(string):\n",
    "    \"\"\"\n",
    "    This function computes the reversal of a string.\n",
    "    \n",
    "    Parameters:\n",
    "    string - the string to reverse\n",
    "    \"\"\"\n",
    "    reversedstring=\"\" #starts the reversed string at an empty string in case the input is an empty string\n",
    "    for i in range(len(string)): #for the length of the string\n",
    "        reversedstring = reversedstring + string[-i-1] #adds the letter which is the ith letter from the end of the string to the reversedstring. For i=0, this will add the last letter of the string. For i=1, this will return the second to last letter of the string.\n",
    "    return reversedstring #returns the reversedstring after the for loop has completed\n",
    "\n",
    "def is_palindrome(inputstring):\n",
    "    \"\"\"\n",
    "    This function takes a string as an argument and retuns True if it is a palindrome and False if it is not a palindrome\n",
    "    \n",
    "    Parameters:\n",
    "    inputstring - the string to test\n",
    "    \"\"\"\n",
    "    if str.lower(inputstring) == str.lower(reverse(inputstring)): #If the lower case of the inputstring is the same as the lower case of the reverse of the inputstring. This line uses the str.lower function in case the user enters upper case characters.\n",
    "        return True #In this case, the string is a palindrome so the function returns True\n",
    "    else: #If the lower case of the inputstring is not the same as the lower case of the reverse of the input string\n",
    "        return False #In this case, the string is not a palindrome so the function returns False\n",
    "\n",
    "is_palindrome(\"radar\")"
   ]
  },
  {
   "cell_type": "code",
   "execution_count": 21,
   "metadata": {
    "collapsed": false
   },
   "outputs": [
    {
     "data": {
      "text/plain": [
       "True"
      ]
     },
     "execution_count": 21,
     "metadata": {},
     "output_type": "execute_result"
    }
   ],
   "source": [
    "def is_member(value, list):\n",
    "    \"\"\"\n",
    "    This function takes a value and a list and returns True if the value is a member of the list and False otherwise.\n",
    "    \n",
    "    Parameters:\n",
    "    value - the value to check\n",
    "    list - the list of values\n",
    "    \"\"\"\n",
    "    x = 0 #Start x at 0. This assumes that the value is not a member of the list.\n",
    "    for i in range(len(list)): #for the length of the list\n",
    "        if value == list[i]: #if the value is the same as the ith member of the list\n",
    "            x=x+1 #adds 1 to the value of x\n",
    "    if x>=1: #if x is greater than or equal to 1. This means that the value was the same as at least one member of the list.\n",
    "        return True #In this case, the value is a member of the list and the function returns True\n",
    "    else: #if x is not greater than or equal to 1. This means that the value was not the same any members of the list.\n",
    "        return False #In this case, the value is not a member of the list and the function returns False\n",
    "\n",
    "is_member(5, [5, 2, 3])"
   ]
  },
  {
   "cell_type": "code",
   "execution_count": 3,
   "metadata": {
    "collapsed": false
   },
   "outputs": [
    {
     "data": {
      "text/plain": [
       "True"
      ]
     },
     "execution_count": 3,
     "metadata": {},
     "output_type": "execute_result"
    }
   ],
   "source": [
    "def overlapping(list1, list2):\n",
    "    \"\"\"\n",
    "    This function takes two lists and returns True if they have at least one member in common and False otherwise.\n",
    "    \n",
    "    Parameters:\n",
    "    list1 - the first list\n",
    "    list2 - the second list\n",
    "    \"\"\"\n",
    "    x = 0 #starts x at 0. This assumes that there are no members in common between the lists.\n",
    "    for i in range(len(list1)): #for the length of list1\n",
    "        for j in range(len(list2)): #for the length of list2. This matches each member of list1 with each member of list2.\n",
    "            if list1[i] == list2[j]: #if the ith member of list1 is equal to the jth member of list2\n",
    "                x = x+1 #adds 1 to the value of x\n",
    "    if x>=1: #If x is greater than or equal to 1. In this case at least one member of list1 is equal to a member of list2.\n",
    "        return True #In this case the lists have at least one member in common so the function returns True\n",
    "    else: #if x is less than 1. In this case no members of list1 are equal to any members of list2\n",
    "        return False #In this case the lists do not have any members in common so the function returns False\n",
    "\n",
    "overlapping([1,2,5], [5,7])"
   ]
  },
  {
   "cell_type": "code",
   "execution_count": 4,
   "metadata": {
    "collapsed": false
   },
   "outputs": [
    {
     "data": {
      "text/plain": [
       "'xxxxx'"
      ]
     },
     "execution_count": 4,
     "metadata": {},
     "output_type": "execute_result"
    }
   ],
   "source": [
    "def generate_n_char(number, letter):\n",
    "    \"\"\"\n",
    "    This function takes an integer n and a character c and returns a string n characters long consisting of c's\n",
    "    \n",
    "    Parameters:\n",
    "    number - the integer\n",
    "    letter - the character\n",
    "    \"\"\"\n",
    "    output=\"\" #the output begins as an empty string\n",
    "    for i in range(number): #the for loop will repeat based on the value of the number\n",
    "        output = output + letter #the letter is added to the output each time in the for loop\n",
    "    return output #returns the output after the for loop has completed\n",
    "\n",
    "generate_n_char(5,'x')"
   ]
  },
  {
   "cell_type": "code",
   "execution_count": null,
   "metadata": {
    "collapsed": true
   },
   "outputs": [],
   "source": []
  }
 ],
 "metadata": {
  "kernelspec": {
   "display_name": "Python 3",
   "language": "python",
   "name": "python3"
  },
  "language_info": {
   "codemirror_mode": {
    "name": "ipython",
    "version": 3
   },
   "file_extension": ".py",
   "mimetype": "text/x-python",
   "name": "python",
   "nbconvert_exporter": "python",
   "pygments_lexer": "ipython3",
   "version": "3.3.5"
  }
 },
 "nbformat": 4,
 "nbformat_minor": 0
}
