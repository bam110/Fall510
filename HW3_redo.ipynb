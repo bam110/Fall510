{
 "cells": [
  {
   "cell_type": "code",
   "execution_count": 2,
   "metadata": {
    "collapsed": false
   },
   "outputs": [
    {
     "name": "stdout",
     "output_type": "stream",
     "text": [
      "****\n",
      "*********\n",
      "*******\n"
     ]
    }
   ],
   "source": [
    "def generate_n_char(number, letter):\n",
    "    \"\"\"\n",
    "    This function takes an integer n and a character c and returns a string n characters long consisting of c's\n",
    "    \n",
    "    Parameters:\n",
    "    number - the integer\n",
    "    letter - the character\n",
    "    \"\"\"\n",
    "    output=\"\" #the output begins as an empty string\n",
    "    for i in range(number): #the for loop will repeat based on the value of the number\n",
    "        output = output + letter #the letter is added to the output each time in the for loop\n",
    "    return output #returns the output after the for loop has completed\n",
    "\n",
    "def histogram(list):\n",
    "    \"\"\"\n",
    "    This function takes a list of integers and prints a histogram to the screen.\n",
    "    \n",
    "    Parameters:\n",
    "    list - the list of integers\n",
    "    \"\"\"\n",
    "    for i in list:#for the length of the list\n",
    "        print(generate_n_char(i, '*')) #uses the generate_n_char function with the * character to print the histrogram\n",
    "\n",
    "histogram([4,9,7])"
   ]
  },
  {
   "cell_type": "code",
   "execution_count": 2,
   "metadata": {
    "collapsed": false
   },
   "outputs": [
    {
     "data": {
      "text/plain": [
       "30"
      ]
     },
     "execution_count": 2,
     "metadata": {},
     "output_type": "execute_result"
    }
   ],
   "source": [
    "def max_in_list(list):\n",
    "    \"\"\"\n",
    "    This function takes a list of numbers and returns the largest one.\n",
    "    \n",
    "    Parameters:\n",
    "    list - the list of numbers\n",
    "    \"\"\"\n",
    "    max_num = list[0] #the max_num starts as the first value in the list\n",
    "    if len(list) == 1: #if the list is of length 1\n",
    "        return max_num #return the first value because it is the only member of the list\n",
    "    else: #if the list has length greater than 1\n",
    "        for i in list[1:len(list)]: #this for loop starts at 1 because max_num is already equal to list[0] so the index 0 is already accounted for \n",
    "            if i >= max_num: #if the ith member of the list is greater than max_num\n",
    "                max_num = i #replace max_num with the ith member of the list. This is the new maximum.\n",
    "    return max_num #returns max_num after the for loop has completed. Max_num is the largest number in the list\n",
    "\n",
    "max_in_list([1,30,6])"
   ]
  },
  {
   "cell_type": "code",
   "execution_count": 3,
   "metadata": {
    "collapsed": false
   },
   "outputs": [
    {
     "data": {
      "text/plain": [
       "[4, 3, 21]"
      ]
     },
     "execution_count": 3,
     "metadata": {},
     "output_type": "execute_result"
    }
   ],
   "source": [
    "def word_length_list(list):\n",
    "    \"\"\"\n",
    "    This function takes a list of words and returns a list of integers representing the lengths of the corresponding words.\n",
    "    \n",
    "    Parameters:\n",
    "    list - the list of words\n",
    "    \"\"\"\n",
    "    length_list = [] #this line creates an empty list in case the input is an empty list\n",
    "    for i in range(len(list)): #for the length of the list\n",
    "        length_list = length_list + [len(list[i])] #adds the length of the ith word in the list\n",
    "    return length_list #returns the length_list after the for loop has completed. Length_list is a list of the lengths of the words in the list.\n",
    "\n",
    "word_length_list(['test','yes','this is a long string'])"
   ]
  },
  {
   "cell_type": "code",
   "execution_count": 13,
   "metadata": {
    "collapsed": false
   },
   "outputs": [
    {
     "data": {
      "text/plain": [
       "21"
      ]
     },
     "execution_count": 13,
     "metadata": {},
     "output_type": "execute_result"
    }
   ],
   "source": [
    "def find_longest_word(list):\n",
    "    \"\"\"\n",
    "    This function takes a list of words and returns the length of the longest word.\n",
    "    \n",
    "    Parameters:\n",
    "    list - the list of words\n",
    "    \"\"\"\n",
    "    maxlength = len(list[0]) #maxlength starts at the length of the first member of the list\n",
    "    for i in range(len(list)): #for the length of the list\n",
    "        if len(list[i]) > maxlength: #if the length of the ith member of the list is longer than the maxlength\n",
    "            maxlength = len(list[i]) #maxlength becomes the length of the ith member of the list\n",
    "    return maxlength #returns the maxlength after the for loop has completed. Maxlength is the length of the longest word in the list.\n",
    "    \n",
    "\n",
    "find_longest_word(['long','this string is longer','longer'])"
   ]
  },
  {
   "cell_type": "code",
   "execution_count": 14,
   "metadata": {
    "collapsed": false
   },
   "outputs": [
    {
     "data": {
      "text/plain": [
       "['maybe', 'sometimes', 'whenever']"
      ]
     },
     "execution_count": 14,
     "metadata": {},
     "output_type": "execute_result"
    }
   ],
   "source": [
    "def filter_long_words(list, n):\n",
    "    \"\"\"\n",
    "    This function takes a list of words and an integer n and returns the list of words that are longer than n.\n",
    "    \n",
    "    Parameters:\n",
    "    list - the list of words\n",
    "    \"\"\"\n",
    "    list_of_words = [] #this line creates an empty list in case none of the words are longer than n\n",
    "    for i in range(len(list)): #for the length of the list\n",
    "        if len(list[i]) > n: #if the length of the ith word in the list is longer than n\n",
    "            list_of_words = list_of_words + [list[i]] #this line adds the ith word in the list to the list_of_words\n",
    "    return list_of_words #returns the list_of_words after the for loop has completed. The list_of_words is a list of the words which are longer than n.\n",
    "\n",
    "filter_long_words(['yes','no','maybe','sometimes','whenever'],4)"
   ]
  },
  {
   "cell_type": "code",
   "execution_count": 22,
   "metadata": {
    "collapsed": false
   },
   "outputs": [
    {
     "data": {
      "text/plain": [
       "True"
      ]
     },
     "execution_count": 22,
     "metadata": {},
     "output_type": "execute_result"
    }
   ],
   "source": [
    "def reverse(string):\n",
    "    \"\"\"\n",
    "    This function computes the reversal of a string.\n",
    "    \n",
    "    Parameters:\n",
    "    string - the string to reverse\n",
    "    \"\"\"\n",
    "    reversedstring=\"\" #starts the reversed string at an empty string in case the input is an empty string\n",
    "    for i in range(len(string)): #for the length of the string\n",
    "        reversedstring = reversedstring + string[-i-1] #adds the letter which is the ith letter from the end of the string to the reversedstring. For i=0, this will add the last letter of the string. For i=1, this will return the second to last letter of the string.\n",
    "    return reversedstring #returns the reversedstring after the for loop has completed\n",
    "\n",
    "def removespecialcharacters(inputstring):\n",
    "    \"\"\"\n",
    "    This function takes a string and removes the special characters.\n",
    "    \n",
    "    Parameters:\n",
    "    inputstring - the string to remove the characters from\n",
    "    \"\"\"\n",
    "    newstring = \"\" #the newstring starts at an empty string in case the inputstring is an empty string\n",
    "    stringlength = len(inputstring) #this line measures the length of the inputstring\n",
    "    \n",
    "    for i in range(stringlength): #for the length of the inputstring\n",
    "        if (inputstring[i] == \" \" or\n",
    "           inputstring[i] == \"\\\"\\\"\" or\n",
    "           inputstring[i] == \"?\" or\n",
    "           inputstring[i] == \",\" or\n",
    "           inputstring[i] == \".\" or\n",
    "           inputstring[i] == \":\" or\n",
    "           inputstring[i] == \";\" or\n",
    "           inputstring[i] == \"'\" or\n",
    "           inputstring[i] == \"\\\"\" or\n",
    "           inputstring[i] == \"-\" or\n",
    "           inputstring[i] == \"!\"): #if the ith letter in the inputstring is a space or one of the special characters \" ? ! , . : ; ' \\ or -\n",
    "            newstring = newstring #nothing is added to the newstring. The newstring remains the same.\n",
    "        else: #if the ith letter in the inputstring is not a space or a special character\n",
    "            newstring = newstring + inputstring[i] #this line adds the ith letter of the inputstring to the newstring\n",
    "    return newstring #returns the newstring after the for loop has completed. The newstring is the inputstring with the special characters removed.\n",
    "\n",
    "def phrase_is_palindrome(phrase):\n",
    "    \"\"\"\n",
    "    This function takes a word or phrase and returns True if it is a palindrome and returns False if it is not.\n",
    "    \n",
    "    Parameters:\n",
    "    phrase - the word or phrase to test\n",
    "    \"\"\"\n",
    "    reversedphrase = reverse(phrase) #this line creates the reversedphrase which is the reversal of the phrase by using the reverse function\n",
    "    newphrase = removespecialcharacters(phrase) #this line removes the special characters from the phrase by using the removespecialcharacters function\n",
    "    newreversedphrase = removespecialcharacters(reversedphrase) #this line removes the special characters from the reversedphrase by using the removespecialcharacters function\n",
    "    \n",
    "    if str.lower(newphrase) == str.lower(newreversedphrase): #If the lower case of the newphrase is equal to the lower case of the newreversedphrase. This line uses the str.lower function in case the user enters upper case characters.\n",
    "        return True #In this case, the word or phrase is a palindrome so the function returns True\n",
    "    else: #If the lower case of the newphrase is not equal to the lower case of the reversedphrase\n",
    "        return False #In this case, the word or phrase is not a palindrome so the function returns False\n",
    "\n",
    "phrase_is_palindrome(\"Dammit, I'm mad!\")"
   ]
  },
  {
   "cell_type": "code",
   "execution_count": 23,
   "metadata": {
    "collapsed": false
   },
   "outputs": [
    {
     "data": {
      "text/plain": [
       "True"
      ]
     },
     "execution_count": 23,
     "metadata": {},
     "output_type": "execute_result"
    }
   ],
   "source": [
    "def is_pangram(sentence):\n",
    "    \"\"\"\n",
    "    This function takes a sentence and returns True if it is a pangram and False if it is not.\n",
    "    \n",
    "    Parameters:\n",
    "    sentence - the sentence to check\n",
    "    \"\"\"\n",
    "    alphabet = 'abcdefghijklmnopqrstuvwxyz' #this line creates a list of all of the lower case letters in the alphabet\n",
    "    alphabetcount = 0 #this line creates the alphabetcount variable which begins at 0\n",
    "    \n",
    "    if len(sentence) < 26: #If the length of the sentence is less than 26\n",
    "        return False #In this case, the sentence cannot be a pangram so the function returns False\n",
    "    else: #If the length of the sentence is not less than 26\n",
    "        sentence = str.lower(sentence) #this line sets all the letters in the sentence to be lower case \n",
    "        \n",
    "        for i in range(len(alphabet)): #for the length of the alphabet which is 26\n",
    "            if alphabet[i] in sentence: #if the ith letter of the alphabet is in the sentence\n",
    "                alphabetcount = alphabetcount + 1 #this line adds 1 to the alphabet count\n",
    "                \n",
    "        if alphabetcount == 26: #if the alphabetcount is equal to 26 after the for loop has completed\n",
    "            return True #in this case, all of the letters in the alphabet are in the sentence so the function returns True\n",
    "        else: #if the alphabetcount is not equal to 26 after the for loop has completed\n",
    "            return False #in this case all of the letters in the alphabet are not in the sentence so the function returns False\n",
    "is_pangram(\"The quick brown fox jumps over the lazy dog.\")"
   ]
  },
  {
   "cell_type": "code",
   "execution_count": 24,
   "metadata": {
    "collapsed": false
   },
   "outputs": [
    {
     "name": "stdout",
     "output_type": "stream",
     "text": [
      "99 bottles of beer on the wall, 99 bottles of beer.\n",
      "Take one down, pass it around, 98 bottles of beer on the wall\n",
      " \n",
      "98 bottles of beer on the wall, 98 bottles of beer.\n",
      "Take one down, pass it around, 97 bottles of beer on the wall\n",
      " \n",
      "97 bottles of beer on the wall, 97 bottles of beer.\n",
      "Take one down, pass it around, 96 bottles of beer on the wall\n",
      " \n",
      "96 bottles of beer on the wall, 96 bottles of beer.\n",
      "Take one down, pass it around, 95 bottles of beer on the wall\n",
      " \n",
      "95 bottles of beer on the wall, 95 bottles of beer.\n",
      "Take one down, pass it around, 94 bottles of beer on the wall\n",
      " \n",
      "94 bottles of beer on the wall, 94 bottles of beer.\n",
      "Take one down, pass it around, 93 bottles of beer on the wall\n",
      " \n",
      "93 bottles of beer on the wall, 93 bottles of beer.\n",
      "Take one down, pass it around, 92 bottles of beer on the wall\n",
      " \n",
      "92 bottles of beer on the wall, 92 bottles of beer.\n",
      "Take one down, pass it around, 91 bottles of beer on the wall\n",
      " \n",
      "91 bottles of beer on the wall, 91 bottles of beer.\n",
      "Take one down, pass it around, 90 bottles of beer on the wall\n",
      " \n",
      "90 bottles of beer on the wall, 90 bottles of beer.\n",
      "Take one down, pass it around, 89 bottles of beer on the wall\n",
      " \n",
      "89 bottles of beer on the wall, 89 bottles of beer.\n",
      "Take one down, pass it around, 88 bottles of beer on the wall\n",
      " \n",
      "88 bottles of beer on the wall, 88 bottles of beer.\n",
      "Take one down, pass it around, 87 bottles of beer on the wall\n",
      " \n",
      "87 bottles of beer on the wall, 87 bottles of beer.\n",
      "Take one down, pass it around, 86 bottles of beer on the wall\n",
      " \n",
      "86 bottles of beer on the wall, 86 bottles of beer.\n",
      "Take one down, pass it around, 85 bottles of beer on the wall\n",
      " \n",
      "85 bottles of beer on the wall, 85 bottles of beer.\n",
      "Take one down, pass it around, 84 bottles of beer on the wall\n",
      " \n",
      "84 bottles of beer on the wall, 84 bottles of beer.\n",
      "Take one down, pass it around, 83 bottles of beer on the wall\n",
      " \n",
      "83 bottles of beer on the wall, 83 bottles of beer.\n",
      "Take one down, pass it around, 82 bottles of beer on the wall\n",
      " \n",
      "82 bottles of beer on the wall, 82 bottles of beer.\n",
      "Take one down, pass it around, 81 bottles of beer on the wall\n",
      " \n",
      "81 bottles of beer on the wall, 81 bottles of beer.\n",
      "Take one down, pass it around, 80 bottles of beer on the wall\n",
      " \n",
      "80 bottles of beer on the wall, 80 bottles of beer.\n",
      "Take one down, pass it around, 79 bottles of beer on the wall\n",
      " \n",
      "79 bottles of beer on the wall, 79 bottles of beer.\n",
      "Take one down, pass it around, 78 bottles of beer on the wall\n",
      " \n",
      "78 bottles of beer on the wall, 78 bottles of beer.\n",
      "Take one down, pass it around, 77 bottles of beer on the wall\n",
      " \n",
      "77 bottles of beer on the wall, 77 bottles of beer.\n",
      "Take one down, pass it around, 76 bottles of beer on the wall\n",
      " \n",
      "76 bottles of beer on the wall, 76 bottles of beer.\n",
      "Take one down, pass it around, 75 bottles of beer on the wall\n",
      " \n",
      "75 bottles of beer on the wall, 75 bottles of beer.\n",
      "Take one down, pass it around, 74 bottles of beer on the wall\n",
      " \n",
      "74 bottles of beer on the wall, 74 bottles of beer.\n",
      "Take one down, pass it around, 73 bottles of beer on the wall\n",
      " \n",
      "73 bottles of beer on the wall, 73 bottles of beer.\n",
      "Take one down, pass it around, 72 bottles of beer on the wall\n",
      " \n",
      "72 bottles of beer on the wall, 72 bottles of beer.\n",
      "Take one down, pass it around, 71 bottles of beer on the wall\n",
      " \n",
      "71 bottles of beer on the wall, 71 bottles of beer.\n",
      "Take one down, pass it around, 70 bottles of beer on the wall\n",
      " \n",
      "70 bottles of beer on the wall, 70 bottles of beer.\n",
      "Take one down, pass it around, 69 bottles of beer on the wall\n",
      " \n",
      "69 bottles of beer on the wall, 69 bottles of beer.\n",
      "Take one down, pass it around, 68 bottles of beer on the wall\n",
      " \n",
      "68 bottles of beer on the wall, 68 bottles of beer.\n",
      "Take one down, pass it around, 67 bottles of beer on the wall\n",
      " \n",
      "67 bottles of beer on the wall, 67 bottles of beer.\n",
      "Take one down, pass it around, 66 bottles of beer on the wall\n",
      " \n",
      "66 bottles of beer on the wall, 66 bottles of beer.\n",
      "Take one down, pass it around, 65 bottles of beer on the wall\n",
      " \n",
      "65 bottles of beer on the wall, 65 bottles of beer.\n",
      "Take one down, pass it around, 64 bottles of beer on the wall\n",
      " \n",
      "64 bottles of beer on the wall, 64 bottles of beer.\n",
      "Take one down, pass it around, 63 bottles of beer on the wall\n",
      " \n",
      "63 bottles of beer on the wall, 63 bottles of beer.\n",
      "Take one down, pass it around, 62 bottles of beer on the wall\n",
      " \n",
      "62 bottles of beer on the wall, 62 bottles of beer.\n",
      "Take one down, pass it around, 61 bottles of beer on the wall\n",
      " \n",
      "61 bottles of beer on the wall, 61 bottles of beer.\n",
      "Take one down, pass it around, 60 bottles of beer on the wall\n",
      " \n",
      "60 bottles of beer on the wall, 60 bottles of beer.\n",
      "Take one down, pass it around, 59 bottles of beer on the wall\n",
      " \n",
      "59 bottles of beer on the wall, 59 bottles of beer.\n",
      "Take one down, pass it around, 58 bottles of beer on the wall\n",
      " \n",
      "58 bottles of beer on the wall, 58 bottles of beer.\n",
      "Take one down, pass it around, 57 bottles of beer on the wall\n",
      " \n",
      "57 bottles of beer on the wall, 57 bottles of beer.\n",
      "Take one down, pass it around, 56 bottles of beer on the wall\n",
      " \n",
      "56 bottles of beer on the wall, 56 bottles of beer.\n",
      "Take one down, pass it around, 55 bottles of beer on the wall\n",
      " \n",
      "55 bottles of beer on the wall, 55 bottles of beer.\n",
      "Take one down, pass it around, 54 bottles of beer on the wall\n",
      " \n",
      "54 bottles of beer on the wall, 54 bottles of beer.\n",
      "Take one down, pass it around, 53 bottles of beer on the wall\n",
      " \n",
      "53 bottles of beer on the wall, 53 bottles of beer.\n",
      "Take one down, pass it around, 52 bottles of beer on the wall\n",
      " \n",
      "52 bottles of beer on the wall, 52 bottles of beer.\n",
      "Take one down, pass it around, 51 bottles of beer on the wall\n",
      " \n",
      "51 bottles of beer on the wall, 51 bottles of beer.\n",
      "Take one down, pass it around, 50 bottles of beer on the wall\n",
      " \n",
      "50 bottles of beer on the wall, 50 bottles of beer.\n",
      "Take one down, pass it around, 49 bottles of beer on the wall\n",
      " \n",
      "49 bottles of beer on the wall, 49 bottles of beer.\n",
      "Take one down, pass it around, 48 bottles of beer on the wall\n",
      " \n",
      "48 bottles of beer on the wall, 48 bottles of beer.\n",
      "Take one down, pass it around, 47 bottles of beer on the wall\n",
      " \n",
      "47 bottles of beer on the wall, 47 bottles of beer.\n",
      "Take one down, pass it around, 46 bottles of beer on the wall\n",
      " \n",
      "46 bottles of beer on the wall, 46 bottles of beer.\n",
      "Take one down, pass it around, 45 bottles of beer on the wall\n",
      " \n",
      "45 bottles of beer on the wall, 45 bottles of beer.\n",
      "Take one down, pass it around, 44 bottles of beer on the wall\n",
      " \n",
      "44 bottles of beer on the wall, 44 bottles of beer.\n",
      "Take one down, pass it around, 43 bottles of beer on the wall\n",
      " \n",
      "43 bottles of beer on the wall, 43 bottles of beer.\n",
      "Take one down, pass it around, 42 bottles of beer on the wall\n",
      " \n",
      "42 bottles of beer on the wall, 42 bottles of beer.\n",
      "Take one down, pass it around, 41 bottles of beer on the wall\n",
      " \n",
      "41 bottles of beer on the wall, 41 bottles of beer.\n",
      "Take one down, pass it around, 40 bottles of beer on the wall\n",
      " \n",
      "40 bottles of beer on the wall, 40 bottles of beer.\n",
      "Take one down, pass it around, 39 bottles of beer on the wall\n",
      " \n",
      "39 bottles of beer on the wall, 39 bottles of beer.\n",
      "Take one down, pass it around, 38 bottles of beer on the wall\n",
      " \n",
      "38 bottles of beer on the wall, 38 bottles of beer.\n",
      "Take one down, pass it around, 37 bottles of beer on the wall\n",
      " \n",
      "37 bottles of beer on the wall, 37 bottles of beer.\n",
      "Take one down, pass it around, 36 bottles of beer on the wall\n",
      " \n",
      "36 bottles of beer on the wall, 36 bottles of beer.\n",
      "Take one down, pass it around, 35 bottles of beer on the wall\n",
      " \n",
      "35 bottles of beer on the wall, 35 bottles of beer.\n",
      "Take one down, pass it around, 34 bottles of beer on the wall\n",
      " \n",
      "34 bottles of beer on the wall, 34 bottles of beer.\n",
      "Take one down, pass it around, 33 bottles of beer on the wall\n",
      " \n",
      "33 bottles of beer on the wall, 33 bottles of beer.\n",
      "Take one down, pass it around, 32 bottles of beer on the wall\n",
      " \n",
      "32 bottles of beer on the wall, 32 bottles of beer.\n",
      "Take one down, pass it around, 31 bottles of beer on the wall\n",
      " \n",
      "31 bottles of beer on the wall, 31 bottles of beer.\n",
      "Take one down, pass it around, 30 bottles of beer on the wall\n",
      " \n",
      "30 bottles of beer on the wall, 30 bottles of beer.\n",
      "Take one down, pass it around, 29 bottles of beer on the wall\n",
      " \n",
      "29 bottles of beer on the wall, 29 bottles of beer.\n",
      "Take one down, pass it around, 28 bottles of beer on the wall\n",
      " \n",
      "28 bottles of beer on the wall, 28 bottles of beer.\n",
      "Take one down, pass it around, 27 bottles of beer on the wall\n",
      " \n",
      "27 bottles of beer on the wall, 27 bottles of beer.\n",
      "Take one down, pass it around, 26 bottles of beer on the wall\n",
      " \n",
      "26 bottles of beer on the wall, 26 bottles of beer.\n",
      "Take one down, pass it around, 25 bottles of beer on the wall\n",
      " \n",
      "25 bottles of beer on the wall, 25 bottles of beer.\n",
      "Take one down, pass it around, 24 bottles of beer on the wall\n",
      " \n",
      "24 bottles of beer on the wall, 24 bottles of beer.\n",
      "Take one down, pass it around, 23 bottles of beer on the wall\n",
      " \n",
      "23 bottles of beer on the wall, 23 bottles of beer.\n",
      "Take one down, pass it around, 22 bottles of beer on the wall\n",
      " \n",
      "22 bottles of beer on the wall, 22 bottles of beer.\n",
      "Take one down, pass it around, 21 bottles of beer on the wall\n",
      " \n",
      "21 bottles of beer on the wall, 21 bottles of beer.\n",
      "Take one down, pass it around, 20 bottles of beer on the wall\n",
      " \n",
      "20 bottles of beer on the wall, 20 bottles of beer.\n",
      "Take one down, pass it around, 19 bottles of beer on the wall\n",
      " \n",
      "19 bottles of beer on the wall, 19 bottles of beer.\n",
      "Take one down, pass it around, 18 bottles of beer on the wall\n",
      " \n",
      "18 bottles of beer on the wall, 18 bottles of beer.\n",
      "Take one down, pass it around, 17 bottles of beer on the wall\n",
      " \n",
      "17 bottles of beer on the wall, 17 bottles of beer.\n",
      "Take one down, pass it around, 16 bottles of beer on the wall\n",
      " \n",
      "16 bottles of beer on the wall, 16 bottles of beer.\n",
      "Take one down, pass it around, 15 bottles of beer on the wall\n",
      " \n",
      "15 bottles of beer on the wall, 15 bottles of beer.\n",
      "Take one down, pass it around, 14 bottles of beer on the wall\n",
      " \n",
      "14 bottles of beer on the wall, 14 bottles of beer.\n",
      "Take one down, pass it around, 13 bottles of beer on the wall\n",
      " \n",
      "13 bottles of beer on the wall, 13 bottles of beer.\n",
      "Take one down, pass it around, 12 bottles of beer on the wall\n",
      " \n",
      "12 bottles of beer on the wall, 12 bottles of beer.\n",
      "Take one down, pass it around, 11 bottles of beer on the wall\n",
      " \n",
      "11 bottles of beer on the wall, 11 bottles of beer.\n",
      "Take one down, pass it around, 10 bottles of beer on the wall\n",
      " \n",
      "10 bottles of beer on the wall, 10 bottles of beer.\n",
      "Take one down, pass it around, 9 bottles of beer on the wall\n",
      " \n",
      "9 bottles of beer on the wall, 9 bottles of beer.\n",
      "Take one down, pass it around, 8 bottles of beer on the wall\n",
      " \n",
      "8 bottles of beer on the wall, 8 bottles of beer.\n",
      "Take one down, pass it around, 7 bottles of beer on the wall\n",
      " \n",
      "7 bottles of beer on the wall, 7 bottles of beer.\n",
      "Take one down, pass it around, 6 bottles of beer on the wall\n",
      " \n",
      "6 bottles of beer on the wall, 6 bottles of beer.\n",
      "Take one down, pass it around, 5 bottles of beer on the wall\n",
      " \n",
      "5 bottles of beer on the wall, 5 bottles of beer.\n",
      "Take one down, pass it around, 4 bottles of beer on the wall\n",
      " \n",
      "4 bottles of beer on the wall, 4 bottles of beer.\n",
      "Take one down, pass it around, 3 bottles of beer on the wall\n",
      " \n",
      "3 bottles of beer on the wall, 3 bottles of beer.\n",
      "Take one down, pass it around, 2 bottles of beer on the wall\n",
      " \n",
      "2 bottles of beer on the wall, 2 bottles of beer.\n",
      "Take one down, pass it around, 1 bottles of beer on the wall\n",
      " \n",
      "1 bottles of beer on the wall, 1 bottles of beer.\n",
      "Take one down, pass it around, 0 bottles of beer on the wall\n",
      " \n"
     ]
    }
   ],
   "source": [
    "def singbottlesofbeer():\n",
    "    \"\"\"\n",
    "    This function generates the verses of the \"99 Bottles of Coke\" song.\n",
    "    \"\"\"\n",
    "    count = 99 #this line starts the count variable at 99 because in the first verse of the song, the number of coke bottles is 99\n",
    "    while count > 0: #while the count is greater than 0\n",
    "        print(str(count) + \" bottles of beer on the wall, \" + str(count) + \" bottles of beer.\") #this prints the first line of the song using the count variable\n",
    "        print(\"Take one down, pass it around, \" + str(count-1) + \" bottles of beer on the wall\") #this prints the second line of the song using the count variable\n",
    "        print(\" \") #this prints a space so there is a space between each verse\n",
    "        count = count - 1 #this line subtracts 1 from the count so the count decreases for each verse\n",
    "\n",
    "singbottlesofbeer()"
   ]
  },
  {
   "cell_type": "code",
   "execution_count": 26,
   "metadata": {
    "collapsed": false
   },
   "outputs": [
    {
     "data": {
      "text/plain": [
       "['god', 'jul', 'och', 'gott', 'nytt', 'år']"
      ]
     },
     "execution_count": 26,
     "metadata": {},
     "output_type": "execute_result"
    }
   ],
   "source": [
    "def translate(list):\n",
    "    \"\"\"\n",
    "    This function takes a list of English words and returns a list of the words translated to Swedish.\n",
    "    \n",
    "    Parameters:\n",
    "    list - the list of English words to translate\n",
    "    \"\"\"\n",
    "    dictionary = {\"merry\":\"god\",\n",
    "                 \"christmas\":\"jul\",\n",
    "                 \"and\":\"och\",\n",
    "                 \"happy\":\"gott\",\n",
    "                 \"new\":\"nytt\",\n",
    "                 \"year\":\"år\"} #this line creates the dictionary of English and Swedish words\n",
    "    translatedlist = [] #this line creates an empty list in case the input is an empty list\n",
    "    for i in range(len(list)): #for the length of the list\n",
    "        if list[i] in dictionary: #if the ith member of the list is in the dictionary\n",
    "            translatedlist = translatedlist + [dictionary[list[i]]] #this line adds the translation of the ith member of the list to the translatedlist\n",
    "    return translatedlist #returns the translatedlist after the for loop has completed\n",
    "    \n",
    "translate([\"merry\", \"christmas\", \"and\", \"happy\", \"new\", \"year\"])"
   ]
  },
  {
   "cell_type": "code",
   "execution_count": 2,
   "metadata": {
    "collapsed": false
   },
   "outputs": [
    {
     "data": {
      "text/plain": [
       "{'a': 7, 'b': 14, 'c': 3, 'd': 3, 'v': 1, 'x': 1}"
      ]
     },
     "execution_count": 2,
     "metadata": {},
     "output_type": "execute_result"
    }
   ],
   "source": [
    "def char_freq(string):\n",
    "    \"\"\"\n",
    "    This function takes a string and returns a frequency listing of the characters contained in the string.\n",
    "    \n",
    "    Parameters:\n",
    "    string - the string of characters\n",
    "    \"\"\"\n",
    "    dictionary = {} #this line creates the empty dictionary\n",
    "    for i in range(len(string)): #for the length of the string\n",
    "        if string[i] in dictionary: #if the ith letter of the string is already in the dictionary\n",
    "            dictionary[string[i]] = dictionary[string[i]] + 1 #this line adds 1 to the frequency of the character\n",
    "        else: #if the ith letter of the string is not already in the dictionary\n",
    "            dictionary[string[i]] = 1 #adds the ith letter of the string to the dictionary and sets the freqency to 1\n",
    "    return dictionary #returns the dictionary after the for loop has completed\n",
    "\n",
    "char_freq(\"abbabcbdbxabdbdbabababcbcbabv\")"
   ]
  },
  {
   "cell_type": "code",
   "execution_count": 6,
   "metadata": {
    "collapsed": false
   },
   "outputs": [
    {
     "data": {
      "text/plain": [
       "'Caesar cipher? I much prefer Caesar salad!'"
      ]
     },
     "execution_count": 6,
     "metadata": {},
     "output_type": "execute_result"
    }
   ],
   "source": [
    "def decoder_encoder(string):\n",
    "    \"\"\"\n",
    "    This function takes a string and decodes it using ROT-13.\n",
    "    \n",
    "    Parameters:\n",
    "    string - the string to decode\n",
    "    \"\"\"\n",
    "    newstring = \"\"#this line creates an empty string in case the input is an empty string\n",
    "    key = {'a':'n', 'b':'o', 'c':'p', 'd':'q', 'e':'r', 'f':'s', 'g':'t', 'h':'u', \n",
    "           'i':'v', 'j':'w', 'k':'x', 'l':'y', 'm':'z', 'n':'a', 'o':'b', 'p':'c', \n",
    "           'q':'d', 'r':'e', 's':'f', 't':'g', 'u':'h', 'v':'i', 'w':'j', 'x':'k',\n",
    "           'y':'l', 'z':'m', 'A':'N', 'B':'O', 'C':'P', 'D':'Q', 'E':'R', 'F':'S', \n",
    "           'G':'T', 'H':'U', 'I':'V', 'J':'W', 'K':'X', 'L':'Y', 'M':'Z', 'N':'A', \n",
    "           'O':'B', 'P':'C', 'Q':'D', 'R':'E', 'S':'F', 'T':'G', 'U':'H', 'V':'I', \n",
    "           'W':'J', 'X':'K', 'Y':'L', 'Z':'M'} #this line creates the dictionary which is the key for ROT-13\n",
    "    for i in range(len(string)): #for the length of the string\n",
    "        if string[i] in key: #if the ith character of the string is in the dictionary\n",
    "            newstring = newstring + key[string[i]] #this line adds the corresponding letter from the key to the new string\n",
    "        else: #if the ith character of the string is not in the dictionary. This would be the case for a space or a special character.\n",
    "            newstring = newstring + string[i] #this line adds the character to the newstring\n",
    "    return newstring #returns the newstring after the for loop has completed\n",
    "\n",
    "decoder_encoder(\"Pnrfne pvcure? V zhpu cersre Pnrfne fnynq!\")"
   ]
  },
  {
   "cell_type": "code",
   "execution_count": 13,
   "metadata": {
    "collapsed": false
   },
   "outputs": [
    {
     "data": {
      "text/plain": [
       "'This is very funny and cool. Indeed!'"
      ]
     },
     "execution_count": 13,
     "metadata": {},
     "output_type": "execute_result"
    }
   ],
   "source": [
    "def correct(string):\n",
    "    \"\"\"\n",
    "    This function takes a string and returns the string with two or more occurences of the space character compressed into one and with an extra space after the period if the period is followed by a letter. \n",
    "    \n",
    "    Parameters:\n",
    "    string - the string to correct\n",
    "    \"\"\"\n",
    "    import re #this line imports the re module so the re.sub function can be used\n",
    "    correctedstring = re.sub('\\ +',' ',string) #this line replaces two or more occurences of the space character with a single space character\n",
    "    correctedstring = re.sub('\\.', '. ',correctedstring) #this line inserts a space after a period\n",
    "    return correctedstring #this line returns the correctedsring\n",
    "\n",
    "correct(\"This       is   very  funny  and  cool.Indeed!\")"
   ]
  },
  {
   "cell_type": "code",
   "execution_count": 19,
   "metadata": {
    "collapsed": false
   },
   "outputs": [
    {
     "data": {
      "text/plain": [
       "'runs'"
      ]
     },
     "execution_count": 19,
     "metadata": {},
     "output_type": "execute_result"
    }
   ],
   "source": [
    "def make_3sg_form(verb):\n",
    "    \"\"\"\n",
    "    This function takes a verb in inifinitive form and returns the verb in third person singular form.\n",
    "    \n",
    "    Parameters:\n",
    "    verb - the verb in infinitive form\n",
    "    \"\"\"\n",
    "    if verb.endswith('y'): #if the verb ends with the letter y\n",
    "        return verb[:-1]+'ies' #this line returns the verb without the y and with 'ies' added at the end\n",
    "    elif verb.endswith(('o','ch','s','sh','x','z')): #if the verb ends with 'o','ch','s','sh','x', or 'z'\n",
    "        return verb + 'es' #this line returns the verb with 'es' added at the end\n",
    "    else: #if the verb is not one of the forms above\n",
    "        return verb + 's' #return the verb with 's' added at the end\n",
    "    \n",
    "make_3sg_form('run')"
   ]
  },
  {
   "cell_type": "code",
   "execution_count": 5,
   "metadata": {
    "collapsed": false
   },
   "outputs": [
    {
     "name": "stdout",
     "output_type": "stream",
     "text": [
      "lying\n",
      "fleeing\n",
      "moving\n",
      "hugging\n"
     ]
    }
   ],
   "source": [
    "def is_vowel(letter):\n",
    "    \"\"\"\n",
    "    This function takes a character and returns True if it is a vowel and False otherwise.\n",
    "    \n",
    "    Parameters:\n",
    "    letter - the character to test\n",
    "    \"\"\"\n",
    "    if letter in ('a', 'A', 'e', 'E', 'i', 'I', 'o', 'O', 'u', 'U'): #If the letter is in the list of all upper case and lower case vowels\n",
    "        return True #In this case, True is returned\n",
    "    else: #If the letter is not in the list of all upper case and lower case vowels, then it is not a vowel\n",
    "        return False #In this case, False is returned\n",
    "\n",
    "def make_ing_form(verb):\n",
    "    \"\"\"\n",
    "    This function takes a verb in infinitive form and returns the verb in present participle form.\n",
    "    \n",
    "    Parameters:\n",
    "    verb - the verb in infinitive form\n",
    "    \"\"\"\n",
    "    if verb.endswith('ie'): #if the verb ends with 'ie'\n",
    "        return verb[:-2] + 'ying' #this line returns the verb without the 'ie' and with 'ying' added at the end\n",
    "    elif verb.endswith('ee'): #if the verb ends with 'ee'\n",
    "        return verb + 'ing' #this line returns the verb with 'ing' added at the end \n",
    "    elif verb.endswith('e') and not (len(verb) == 2): #if the verb ends with 'e' and is not of length 2\n",
    "        return verb[:-1] + 'ing' #this line returns the verb without the 'e' and with 'ing' added at the end\n",
    "    elif len(verb) == 3 and (is_vowel(verb[1])) and not ((is_vowel(verb[0])) and (is_vowel(verb[2]))): #if the verb is of length 3 and consists of consonant-vowel-consonant \n",
    "        return verb + verb[2] + 'ing' #this line returns the verb with the final consonant and 'ing' added at the end\n",
    "    else: #if the verb is not of one of the forms above\n",
    "        return verb + 'ing' #this line returns the verb with 'ing' added at the end\n",
    "    \n",
    "print(make_ing_form('lie'))\n",
    "print(make_ing_form('flee'))\n",
    "print(make_ing_form('move'))\n",
    "print(make_ing_form('hug'))\n",
    "        "
   ]
  },
  {
   "cell_type": "code",
   "execution_count": null,
   "metadata": {
    "collapsed": true
   },
   "outputs": [],
   "source": []
  }
 ],
 "metadata": {
  "kernelspec": {
   "display_name": "Python 3",
   "language": "python",
   "name": "python3"
  },
  "language_info": {
   "codemirror_mode": {
    "name": "ipython",
    "version": 3
   },
   "file_extension": ".py",
   "mimetype": "text/x-python",
   "name": "python",
   "nbconvert_exporter": "python",
   "pygments_lexer": "ipython3",
   "version": "3.3.5"
  }
 },
 "nbformat": 4,
 "nbformat_minor": 0
}
